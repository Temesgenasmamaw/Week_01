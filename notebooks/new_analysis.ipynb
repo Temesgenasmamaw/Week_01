{
 "cells": [
  {
   "cell_type": "code",
   "execution_count": 1,
   "metadata": {},
   "outputs": [],
   "source": [
    "\n",
    "import os, sys\n",
    "import nltk\n",
    "from nltk.sentiment.vader import SentimentIntensityAnalyzer\n",
    "import matplotlib.pyplot as plt\n",
    "from nltk.tokenize import word_tokenize\n",
    "from statsmodels.tsa.seasonal import seasonal_decompose\n",
    "import re\n",
    "from sklearn.feature_extraction.text import CountVectorizer, TfidfVectorizer\n",
    "from nltk.tokenize import word_tokenize"
   ]
  },
  {
   "cell_type": "code",
   "execution_count": 2,
   "metadata": {},
   "outputs": [
    {
     "name": "stdout",
     "output_type": "stream",
     "text": [
      "current_dir:  d:\\Kifya\\Week_01\\notebooks\n",
      "parent_dir d:\\Kifya\\Week_01\n"
     ]
    }
   ],
   "source": [
    "\n",
    "# Get theconda create --name talib python=3.9 current working directory\n",
    "current_dir = os.getcwd()\n",
    "print(\"current_dir: \",current_dir)\n",
    "\n",
    "# Get the parent directory\n",
    "parent_dir = os.path.dirname(current_dir)\n",
    "print(\"parent_dir\",parent_dir)\n",
    "\n",
    "# Insert the path to the parent directory\n",
    "sys.path.insert(0, parent_dir)\n",
    "\n"
   ]
  },
  {
   "cell_type": "code",
   "execution_count": 3,
   "metadata": {},
   "outputs": [
    {
     "data": {
      "text/html": [
       "<div>\n",
       "<style scoped>\n",
       "    .dataframe tbody tr th:only-of-type {\n",
       "        vertical-align: middle;\n",
       "    }\n",
       "\n",
       "    .dataframe tbody tr th {\n",
       "        vertical-align: top;\n",
       "    }\n",
       "\n",
       "    .dataframe thead th {\n",
       "        text-align: right;\n",
       "    }\n",
       "</style>\n",
       "<table border=\"1\" class=\"dataframe\">\n",
       "  <thead>\n",
       "    <tr style=\"text-align: right;\">\n",
       "      <th></th>\n",
       "      <th>Unnamed: 0</th>\n",
       "      <th>headline</th>\n",
       "      <th>url</th>\n",
       "      <th>publisher</th>\n",
       "      <th>date</th>\n",
       "      <th>stock</th>\n",
       "    </tr>\n",
       "  </thead>\n",
       "  <tbody>\n",
       "    <tr>\n",
       "      <th>0</th>\n",
       "      <td>0</td>\n",
       "      <td>Stocks That Hit 52-Week Highs On Friday</td>\n",
       "      <td>https://www.benzinga.com/news/20/06/16190091/s...</td>\n",
       "      <td>Benzinga Insights</td>\n",
       "      <td>2020-06-05 10:30:54-04:00</td>\n",
       "      <td>A</td>\n",
       "    </tr>\n",
       "    <tr>\n",
       "      <th>1</th>\n",
       "      <td>1</td>\n",
       "      <td>Stocks That Hit 52-Week Highs On Wednesday</td>\n",
       "      <td>https://www.benzinga.com/news/20/06/16170189/s...</td>\n",
       "      <td>Benzinga Insights</td>\n",
       "      <td>2020-06-03 10:45:20-04:00</td>\n",
       "      <td>A</td>\n",
       "    </tr>\n",
       "    <tr>\n",
       "      <th>2</th>\n",
       "      <td>2</td>\n",
       "      <td>71 Biggest Movers From Friday</td>\n",
       "      <td>https://www.benzinga.com/news/20/05/16103463/7...</td>\n",
       "      <td>Lisa Levin</td>\n",
       "      <td>2020-05-26 04:30:07-04:00</td>\n",
       "      <td>A</td>\n",
       "    </tr>\n",
       "    <tr>\n",
       "      <th>3</th>\n",
       "      <td>3</td>\n",
       "      <td>46 Stocks Moving In Friday's Mid-Day Session</td>\n",
       "      <td>https://www.benzinga.com/news/20/05/16095921/4...</td>\n",
       "      <td>Lisa Levin</td>\n",
       "      <td>2020-05-22 12:45:06-04:00</td>\n",
       "      <td>A</td>\n",
       "    </tr>\n",
       "    <tr>\n",
       "      <th>4</th>\n",
       "      <td>4</td>\n",
       "      <td>B of A Securities Maintains Neutral on Agilent...</td>\n",
       "      <td>https://www.benzinga.com/news/20/05/16095304/b...</td>\n",
       "      <td>Vick Meyer</td>\n",
       "      <td>2020-05-22 11:38:59-04:00</td>\n",
       "      <td>A</td>\n",
       "    </tr>\n",
       "  </tbody>\n",
       "</table>\n",
       "</div>"
      ],
      "text/plain": [
       "   Unnamed: 0                                           headline  \\\n",
       "0           0            Stocks That Hit 52-Week Highs On Friday   \n",
       "1           1         Stocks That Hit 52-Week Highs On Wednesday   \n",
       "2           2                      71 Biggest Movers From Friday   \n",
       "3           3       46 Stocks Moving In Friday's Mid-Day Session   \n",
       "4           4  B of A Securities Maintains Neutral on Agilent...   \n",
       "\n",
       "                                                 url          publisher  \\\n",
       "0  https://www.benzinga.com/news/20/06/16190091/s...  Benzinga Insights   \n",
       "1  https://www.benzinga.com/news/20/06/16170189/s...  Benzinga Insights   \n",
       "2  https://www.benzinga.com/news/20/05/16103463/7...         Lisa Levin   \n",
       "3  https://www.benzinga.com/news/20/05/16095921/4...         Lisa Levin   \n",
       "4  https://www.benzinga.com/news/20/05/16095304/b...         Vick Meyer   \n",
       "\n",
       "                        date stock  \n",
       "0  2020-06-05 10:30:54-04:00     A  \n",
       "1  2020-06-03 10:45:20-04:00     A  \n",
       "2  2020-05-26 04:30:07-04:00     A  \n",
       "3  2020-05-22 12:45:06-04:00     A  \n",
       "4  2020-05-22 11:38:59-04:00     A  "
      ]
     },
     "execution_count": 3,
     "metadata": {},
     "output_type": "execute_result"
    }
   ],
   "source": [
    "import pandas as pd\n",
    "\n",
    "# read the CSV \n",
    "data = pd.read_csv('../data/raw_analyst_ratings.csv')\n",
    "\n",
    "data.head()"
   ]
  },
  {
   "cell_type": "code",
   "execution_count": 6,
   "metadata": {},
   "outputs": [
    {
     "data": {
      "text/plain": [
       "(1407328, 6)"
      ]
     },
     "execution_count": 6,
     "metadata": {},
     "output_type": "execute_result"
    }
   ],
   "source": [
    "data.shape"
   ]
  },
  {
   "cell_type": "code",
   "execution_count": 7,
   "metadata": {},
   "outputs": [
    {
     "name": "stdout",
     "output_type": "stream",
     "text": [
      "Unnamed: 0    0\n",
      "headline      0\n",
      "url           0\n",
      "publisher     0\n",
      "date          0\n",
      "stock         0\n",
      "dtype: int64\n"
     ]
    }
   ],
   "source": [
    "print(data.isnull().sum())"
   ]
  },
  {
   "cell_type": "code",
   "execution_count": 8,
   "metadata": {},
   "outputs": [
    {
     "name": "stdout",
     "output_type": "stream",
     "text": [
      "<class 'pandas.core.frame.DataFrame'>\n",
      "RangeIndex: 1407328 entries, 0 to 1407327\n",
      "Data columns (total 6 columns):\n",
      " #   Column      Non-Null Count    Dtype \n",
      "---  ------      --------------    ----- \n",
      " 0   Unnamed: 0  1407328 non-null  int64 \n",
      " 1   headline    1407328 non-null  object\n",
      " 2   url         1407328 non-null  object\n",
      " 3   publisher   1407328 non-null  object\n",
      " 4   date        1407328 non-null  object\n",
      " 5   stock       1407328 non-null  object\n",
      "dtypes: int64(1), object(5)\n",
      "memory usage: 64.4+ MB\n"
     ]
    }
   ],
   "source": [
    "data.info()"
   ]
  },
  {
   "cell_type": "markdown",
   "metadata": {},
   "source": [
    "Descriptive Statistics:"
   ]
  },
  {
   "cell_type": "code",
   "execution_count": 9,
   "metadata": {},
   "outputs": [],
   "source": [
    "df=data.copy()"
   ]
  },
  {
   "cell_type": "code",
   "execution_count": 10,
   "metadata": {},
   "outputs": [
    {
     "data": {
      "text/plain": [
       "(1407328, 6)"
      ]
     },
     "execution_count": 10,
     "metadata": {},
     "output_type": "execute_result"
    }
   ],
   "source": [
    "df.shape"
   ]
  },
  {
   "cell_type": "code",
   "execution_count": 12,
   "metadata": {},
   "outputs": [
    {
     "name": "stdout",
     "output_type": "stream",
     "text": [
      "Character Length Statistics:\n",
      " count    1.407328e+06\n",
      "mean     7.312051e+01\n",
      "std      4.073531e+01\n",
      "min      3.000000e+00\n",
      "25%      4.700000e+01\n",
      "50%      6.400000e+01\n",
      "75%      8.700000e+01\n",
      "max      5.120000e+02\n",
      "Name: headline_length_chars, dtype: float64\n"
     ]
    }
   ],
   "source": [
    "# Measure the length of each headline in terms of characters\n",
    "df['headline_length_chars'] = df['headline'].apply(len)\n",
    "\n",
    "# Measure the length of each headline in terms of words\n",
    "df['headline_length_words'] = df['headline'].apply(lambda x: len(x.split()))\n",
    "\n",
    "# Calculate basic statistics for character length\n",
    "char_stats = df['headline_length_chars'].describe()\n",
    "print(\"Character Length Statistics:\\n\", char_stats)\n"
   ]
  },
  {
   "cell_type": "code",
   "execution_count": 13,
   "metadata": {},
   "outputs": [
    {
     "name": "stdout",
     "output_type": "stream",
     "text": [
      "Word Length Statistics:\n",
      " count    1.407328e+06\n",
      "mean     1.141671e+01\n",
      "std      6.352997e+00\n",
      "min      1.000000e+00\n",
      "25%      7.000000e+00\n",
      "50%      1.000000e+01\n",
      "75%      1.300000e+01\n",
      "max      7.700000e+01\n",
      "Name: headline_length_words, dtype: float64\n"
     ]
    }
   ],
   "source": [
    "# Calculate basic statistics for word length\n",
    "word_stats = df['headline_length_words'].describe()\n",
    "print(\"Word Length Statistics:\\n\", word_stats)"
   ]
  },
  {
   "cell_type": "code",
   "execution_count": null,
   "metadata": {},
   "outputs": [],
   "source": []
  },
  {
   "cell_type": "code",
   "execution_count": 14,
   "metadata": {},
   "outputs": [
    {
     "name": "stdout",
     "output_type": "stream",
     "text": [
      "Top Publishers by Article Count:\n",
      " publisher\n",
      "Paul Quintaro        228373\n",
      "Lisa Levin           186979\n",
      "Benzinga Newsdesk    150484\n",
      "Charles Gross         96732\n",
      "Monica Gerson         82380\n",
      "Name: count, dtype: int64\n"
     ]
    }
   ],
   "source": [
    "# Count the number of articles per publisher\n",
    "publisher_counts = df['publisher'].value_counts()\n",
    "print(\"Top Publishers by Article Count:\\n\", publisher_counts.head())"
   ]
  },
  {
   "cell_type": "code",
   "execution_count": 17,
   "metadata": {},
   "outputs": [
    {
     "data": {
      "image/png": "[encoded data removed]",
      "text/plain": [
       "<Figure size 2000x300 with 1 Axes>"
      ]
     },
     "metadata": {},
     "output_type": "display_data"
    }
   ],
   "source": [
    "plt.figure(figsize=(20, 3))\n",
    "publisher_counts.plot(kind='line', title='Count the number of articles per publisher')\n",
    "plt.xlabel('publisher')\n",
    "plt.ylabel('Number of Articles')\n",
    "plt.show()"
   ]
  },
  {
   "cell_type": "code",
   "execution_count": 25,
   "metadata": {},
   "outputs": [
    {
     "data": {
      "text/html": [
       "<div>\n",
       "<style scoped>\n",
       "    .dataframe tbody tr th:only-of-type {\n",
       "        vertical-align: middle;\n",
       "    }\n",
       "\n",
       "    .dataframe tbody tr th {\n",
       "        vertical-align: top;\n",
       "    }\n",
       "\n",
       "    .dataframe thead th {\n",
       "        text-align: right;\n",
       "    }\n",
       "</style>\n",
       "<table border=\"1\" class=\"dataframe\">\n",
       "  <thead>\n",
       "    <tr style=\"text-align: right;\">\n",
       "      <th></th>\n",
       "      <th>Unnamed: 0</th>\n",
       "      <th>headline</th>\n",
       "      <th>url</th>\n",
       "      <th>publisher</th>\n",
       "      <th>date</th>\n",
       "      <th>stock</th>\n",
       "      <th>headline_length</th>\n",
       "      <th>headline_length_chars</th>\n",
       "      <th>headline_length_words</th>\n",
       "      <th>local_date</th>\n",
       "      <th>date_only</th>\n",
       "    </tr>\n",
       "  </thead>\n",
       "  <tbody>\n",
       "    <tr>\n",
       "      <th>0</th>\n",
       "      <td>0</td>\n",
       "      <td>Stocks That Hit 52-Week Highs On Friday</td>\n",
       "      <td>https://www.benzinga.com/news/20/06/16190091/s...</td>\n",
       "      <td>Benzinga Insights</td>\n",
       "      <td>2020-06-05 10:30:54-04:00</td>\n",
       "      <td>A</td>\n",
       "      <td>39</td>\n",
       "      <td>39</td>\n",
       "      <td>7</td>\n",
       "      <td>2020-06-05 10:30:54</td>\n",
       "      <td>2020-06-05</td>\n",
       "    </tr>\n",
       "    <tr>\n",
       "      <th>1</th>\n",
       "      <td>1</td>\n",
       "      <td>Stocks That Hit 52-Week Highs On Wednesday</td>\n",
       "      <td>https://www.benzinga.com/news/20/06/16170189/s...</td>\n",
       "      <td>Benzinga Insights</td>\n",
       "      <td>2020-06-03 10:45:20-04:00</td>\n",
       "      <td>A</td>\n",
       "      <td>42</td>\n",
       "      <td>42</td>\n",
       "      <td>7</td>\n",
       "      <td>2020-06-03 10:45:20</td>\n",
       "      <td>2020-06-03</td>\n",
       "    </tr>\n",
       "    <tr>\n",
       "      <th>2</th>\n",
       "      <td>2</td>\n",
       "      <td>71 Biggest Movers From Friday</td>\n",
       "      <td>https://www.benzinga.com/news/20/05/16103463/7...</td>\n",
       "      <td>Lisa Levin</td>\n",
       "      <td>2020-05-26 04:30:07-04:00</td>\n",
       "      <td>A</td>\n",
       "      <td>29</td>\n",
       "      <td>29</td>\n",
       "      <td>5</td>\n",
       "      <td>2020-05-26 04:30:07</td>\n",
       "      <td>2020-05-26</td>\n",
       "    </tr>\n",
       "    <tr>\n",
       "      <th>3</th>\n",
       "      <td>3</td>\n",
       "      <td>46 Stocks Moving In Friday's Mid-Day Session</td>\n",
       "      <td>https://www.benzinga.com/news/20/05/16095921/4...</td>\n",
       "      <td>Lisa Levin</td>\n",
       "      <td>2020-05-22 12:45:06-04:00</td>\n",
       "      <td>A</td>\n",
       "      <td>44</td>\n",
       "      <td>44</td>\n",
       "      <td>7</td>\n",
       "      <td>2020-05-22 12:45:06</td>\n",
       "      <td>2020-05-22</td>\n",
       "    </tr>\n",
       "    <tr>\n",
       "      <th>4</th>\n",
       "      <td>4</td>\n",
       "      <td>B of A Securities Maintains Neutral on Agilent...</td>\n",
       "      <td>https://www.benzinga.com/news/20/05/16095304/b...</td>\n",
       "      <td>Vick Meyer</td>\n",
       "      <td>2020-05-22 11:38:59-04:00</td>\n",
       "      <td>A</td>\n",
       "      <td>87</td>\n",
       "      <td>87</td>\n",
       "      <td>14</td>\n",
       "      <td>2020-05-22 11:38:59</td>\n",
       "      <td>2020-05-22</td>\n",
       "    </tr>\n",
       "  </tbody>\n",
       "</table>\n",
       "</div>"
      ],
      "text/plain": [
       "   Unnamed: 0                                           headline  \\\n",
       "0           0            Stocks That Hit 52-Week Highs On Friday   \n",
       "1           1         Stocks That Hit 52-Week Highs On Wednesday   \n",
       "2           2                      71 Biggest Movers From Friday   \n",
       "3           3       46 Stocks Moving In Friday's Mid-Day Session   \n",
       "4           4  B of A Securities Maintains Neutral on Agilent...   \n",
       "\n",
       "                                                 url          publisher  \\\n",
       "0  https://www.benzinga.com/news/20/06/16190091/s...  Benzinga Insights   \n",
       "1  https://www.benzinga.com/news/20/06/16170189/s...  Benzinga Insights   \n",
       "2  https://www.benzinga.com/news/20/05/16103463/7...         Lisa Levin   \n",
       "3  https://www.benzinga.com/news/20/05/16095921/4...         Lisa Levin   \n",
       "4  https://www.benzinga.com/news/20/05/16095304/b...         Vick Meyer   \n",
       "\n",
       "                       date stock  headline_length  headline_length_chars  \\\n",
       "0 2020-06-05 10:30:54-04:00     A               39                     39   \n",
       "1 2020-06-03 10:45:20-04:00     A               42                     42   \n",
       "2 2020-05-26 04:30:07-04:00     A               29                     29   \n",
       "3 2020-05-22 12:45:06-04:00     A               44                     44   \n",
       "4 2020-05-22 11:38:59-04:00     A               87                     87   \n",
       "\n",
       "   headline_length_words          local_date   date_only  \n",
       "0                      7 2020-06-05 10:30:54  2020-06-05  \n",
       "1                      7 2020-06-03 10:45:20  2020-06-03  \n",
       "2                      5 2020-05-26 04:30:07  2020-05-26  \n",
       "3                      7 2020-05-22 12:45:06  2020-05-22  \n",
       "4                     14 2020-05-22 11:38:59  2020-05-22  "
      ]
     },
     "execution_count": 25,
     "metadata": {},
     "output_type": "execute_result"
    }
   ],
   "source": [
    "\n",
    "# Remove timezone information and convert to datetime\n",
    "\n",
    "# Step 1: Convert the 'date' column to datetime format\n",
    "df['date'] = pd.to_datetime(df['date'], errors='coerce')\n",
    "\n",
    "# Step 2: Remove timezone information (if any)\n",
    "df['local_date'] = df['date'].dt.tz_localize(None)\n",
    "df['date_only'] = df['date'].dt.date\n",
    "\n",
    "df.head()"
   ]
  },
  {
   "cell_type": "code",
   "execution_count": 92,
   "metadata": {},
   "outputs": [],
   "source": [
    "hourly_count=df['hour_of_day'] = df['date'].dt.hour\n",
    "# Plot yearly publication trends\n",
    "plt.figure(figsize=(10, 4))\n",
    "hourly_count.plot(kind='bar', title='Number of Articles Published Per hour')\n",
    "plt.xlabel('hour')\n",
    "plt.ylabel('Number of Articles')\n",
    "plt.show()"
   ]
  },
  {
   "cell_type": "code",
   "execution_count": 30,
   "metadata": {},
   "outputs": [
    {
     "data": {
      "image/png": "[encoded data removed]",
      "text/plain": [
       "<Figure size 1000x400 with 1 Axes>"
      ]
     },
     "metadata": {},
     "output_type": "display_data"
    },
    {
     "data": {
      "text/plain": [
       "<Figure size 1400x400 with 0 Axes>"
      ]
     },
     "metadata": {},
     "output_type": "display_data"
    },
    {
     "data": {
      "image/png": "[encoded data removed]",
      "text/plain": [
       "<Figure size 640x480 with 1 Axes>"
      ]
     },
     "metadata": {},
     "output_type": "display_data"
    },
    {
     "data": {
      "image/png": "[encoded data removed]",
      "text/plain": [
       "<Figure size 800x300 with 1 Axes>"
      ]
     },
     "metadata": {},
     "output_type": "display_data"
    }
   ],
   "source": [
    "\n",
    "\n",
    "# Step 2: Extract year, month, and day components\n",
    "df['year'] = df['date'].dt.year\n",
    "df['month'] = df['date'].dt.month\n",
    "df['day'] = df['date'].dt.day\n",
    "df['day_of_week'] = df['date'].dt.day_name()  # This will give day names like 'Monday', 'Tuesday', etc.\n",
    "\n",
    "# Step 3: Group and count the data\n",
    "# Count the number of articles published per year\n",
    "yearly_counts = df.groupby('year').size()\n",
    "\n",
    "# Count the number of articles published per month\n",
    "monthly_counts = df.groupby(['year', 'month']).size()\n",
    "\n",
    "# Count the number of articles published on each day of the week\n",
    "weekly_counts = df.groupby('day_of_week').size()\n",
    "\n",
    "# Step 4: Visualize the Data\n",
    "\n",
    "# Plot yearly publication trends\n",
    "plt.figure(figsize=(10, 4))\n",
    "yearly_counts.plot(kind='bar', title='Number of Articles Published Per Year')\n",
    "plt.xlabel('Year')\n",
    "plt.ylabel('Number of Articles')\n",
    "plt.show()\n",
    "\n",
    "# Plot monthly publication trends\n",
    "plt.figure(figsize=(14, 4))\n",
    "monthly_counts.unstack().plot(kind='bar', stacked=True, title='Number of Articles Published Per Month')\n",
    "plt.xlabel('Year-Month')\n",
    "plt.ylabel('Number of Articles')\n",
    "plt.show()\n",
    "\n",
    "# Plot weekly publication trends\n",
    "plt.figure(figsize=(8, 3))\n",
    "weekly_counts.plot(kind='bar', title='Number of Articles Published Per Day of the Week')\n",
    "plt.xlabel('Day of the Week')\n",
    "plt.ylabel('Number of Articles')\n",
    "plt.show()\n"
   ]
  },
  {
   "cell_type": "code",
   "execution_count": 32,
   "metadata": {},
   "outputs": [
    {
     "data": {
      "image/png": "[encoded data removed]",
      "text/plain": [
       "<Figure size 1000x400 with 1 Axes>"
      ]
     },
     "metadata": {},
     "output_type": "display_data"
    }
   ],
   "source": [
    "# Count the number of articles published per day\n",
    "daily_counts = df['date_only'].value_counts().sort_index()\n",
    "plt.figure(figsize=(10, 4))\n",
    "daily_counts.plot(kind='line', title='Articles Published Over Time')\n",
    "plt.xlabel('Date')\n",
    "plt.ylabel('Number of Articles')\n",
    "plt.show()"
   ]
  },
  {
   "cell_type": "markdown",
   "metadata": {},
   "source": [
    "Text Analysis(Sentiment analysis & Topic Modeling):\n"
   ]
  },
  {
   "cell_type": "markdown",
   "metadata": {},
   "source": [
    "1.Sentiment Analysis"
   ]
  },
  {
   "cell_type": "code",
   "execution_count": 34,
   "metadata": {},
   "outputs": [
    {
     "data": {
      "text/html": [
       "<div>\n",
       "<style scoped>\n",
       "    .dataframe tbody tr th:only-of-type {\n",
       "        vertical-align: middle;\n",
       "    }\n",
       "\n",
       "    .dataframe tbody tr th {\n",
       "        vertical-align: top;\n",
       "    }\n",
       "\n",
       "    .dataframe thead th {\n",
       "        text-align: right;\n",
       "    }\n",
       "</style>\n",
       "<table border=\"1\" class=\"dataframe\">\n",
       "  <thead>\n",
       "    <tr style=\"text-align: right;\">\n",
       "      <th></th>\n",
       "      <th>Unnamed: 0</th>\n",
       "      <th>headline</th>\n",
       "      <th>url</th>\n",
       "      <th>publisher</th>\n",
       "      <th>date</th>\n",
       "      <th>stock</th>\n",
       "      <th>headline_length</th>\n",
       "      <th>headline_length_chars</th>\n",
       "      <th>headline_length_words</th>\n",
       "      <th>local_date</th>\n",
       "      <th>date_only</th>\n",
       "      <th>year</th>\n",
       "      <th>month</th>\n",
       "      <th>day</th>\n",
       "      <th>day_of_week</th>\n",
       "    </tr>\n",
       "  </thead>\n",
       "  <tbody>\n",
       "    <tr>\n",
       "      <th>0</th>\n",
       "      <td>0</td>\n",
       "      <td>Stocks That Hit 52-Week Highs On Friday</td>\n",
       "      <td>https://www.benzinga.com/news/20/06/16190091/s...</td>\n",
       "      <td>Benzinga Insights</td>\n",
       "      <td>2020-06-05 10:30:54-04:00</td>\n",
       "      <td>A</td>\n",
       "      <td>39</td>\n",
       "      <td>39</td>\n",
       "      <td>7</td>\n",
       "      <td>2020-06-05 10:30:54</td>\n",
       "      <td>2020-06-05</td>\n",
       "      <td>2020.0</td>\n",
       "      <td>6.0</td>\n",
       "      <td>5.0</td>\n",
       "      <td>Friday</td>\n",
       "    </tr>\n",
       "    <tr>\n",
       "      <th>1</th>\n",
       "      <td>1</td>\n",
       "      <td>Stocks That Hit 52-Week Highs On Wednesday</td>\n",
       "      <td>https://www.benzinga.com/news/20/06/16170189/s...</td>\n",
       "      <td>Benzinga Insights</td>\n",
       "      <td>2020-06-03 10:45:20-04:00</td>\n",
       "      <td>A</td>\n",
       "      <td>42</td>\n",
       "      <td>42</td>\n",
       "      <td>7</td>\n",
       "      <td>2020-06-03 10:45:20</td>\n",
       "      <td>2020-06-03</td>\n",
       "      <td>2020.0</td>\n",
       "      <td>6.0</td>\n",
       "      <td>3.0</td>\n",
       "      <td>Wednesday</td>\n",
       "    </tr>\n",
       "    <tr>\n",
       "      <th>2</th>\n",
       "      <td>2</td>\n",
       "      <td>71 Biggest Movers From Friday</td>\n",
       "      <td>https://www.benzinga.com/news/20/05/16103463/7...</td>\n",
       "      <td>Lisa Levin</td>\n",
       "      <td>2020-05-26 04:30:07-04:00</td>\n",
       "      <td>A</td>\n",
       "      <td>29</td>\n",
       "      <td>29</td>\n",
       "      <td>5</td>\n",
       "      <td>2020-05-26 04:30:07</td>\n",
       "      <td>2020-05-26</td>\n",
       "      <td>2020.0</td>\n",
       "      <td>5.0</td>\n",
       "      <td>26.0</td>\n",
       "      <td>Tuesday</td>\n",
       "    </tr>\n",
       "  </tbody>\n",
       "</table>\n",
       "</div>"
      ],
      "text/plain": [
       "   Unnamed: 0                                    headline  \\\n",
       "0           0     Stocks That Hit 52-Week Highs On Friday   \n",
       "1           1  Stocks That Hit 52-Week Highs On Wednesday   \n",
       "2           2               71 Biggest Movers From Friday   \n",
       "\n",
       "                                                 url          publisher  \\\n",
       "0  https://www.benzinga.com/news/20/06/16190091/s...  Benzinga Insights   \n",
       "1  https://www.benzinga.com/news/20/06/16170189/s...  Benzinga Insights   \n",
       "2  https://www.benzinga.com/news/20/05/16103463/7...         Lisa Levin   \n",
       "\n",
       "                       date stock  headline_length  headline_length_chars  \\\n",
       "0 2020-06-05 10:30:54-04:00     A               39                     39   \n",
       "1 2020-06-03 10:45:20-04:00     A               42                     42   \n",
       "2 2020-05-26 04:30:07-04:00     A               29                     29   \n",
       "\n",
       "   headline_length_words          local_date   date_only    year  month   day  \\\n",
       "0                      7 2020-06-05 10:30:54  2020-06-05  2020.0    6.0   5.0   \n",
       "1                      7 2020-06-03 10:45:20  2020-06-03  2020.0    6.0   3.0   \n",
       "2                      5 2020-05-26 04:30:07  2020-05-26  2020.0    5.0  26.0   \n",
       "\n",
       "  day_of_week  \n",
       "0      Friday  \n",
       "1   Wednesday  \n",
       "2     Tuesday  "
      ]
     },
     "execution_count": 34,
     "metadata": {},
     "output_type": "execute_result"
    }
   ],
   "source": [
    "df[:3]"
   ]
  },
  {
   "cell_type": "code",
   "execution_count": 14,
   "metadata": {},
   "outputs": [
    {
     "name": "stderr",
     "output_type": "stream",
     "text": [
      "[nltk_data] Downloading package vader_lexicon to\n",
      "[nltk_data]     C:\\Users\\asmam\\AppData\\Roaming\\nltk_data...\n"
     ]
    },
    {
     "data": {
      "text/plain": [
       "True"
      ]
     },
     "execution_count": 14,
     "metadata": {},
     "output_type": "execute_result"
    }
   ],
   "source": [
    "nltk.download('vader_lexicon')"
   ]
  },
  {
   "cell_type": "code",
   "execution_count": 38,
   "metadata": {},
   "outputs": [
    {
     "data": {
      "text/html": [
       "<div>\n",
       "<style scoped>\n",
       "    .dataframe tbody tr th:only-of-type {\n",
       "        vertical-align: middle;\n",
       "    }\n",
       "\n",
       "    .dataframe tbody tr th {\n",
       "        vertical-align: top;\n",
       "    }\n",
       "\n",
       "    .dataframe thead th {\n",
       "        text-align: right;\n",
       "    }\n",
       "</style>\n",
       "<table border=\"1\" class=\"dataframe\">\n",
       "  <thead>\n",
       "    <tr style=\"text-align: right;\">\n",
       "      <th></th>\n",
       "      <th>Unnamed: 0</th>\n",
       "      <th>headline</th>\n",
       "      <th>url</th>\n",
       "      <th>publisher</th>\n",
       "      <th>date</th>\n",
       "      <th>stock</th>\n",
       "    </tr>\n",
       "  </thead>\n",
       "  <tbody>\n",
       "    <tr>\n",
       "      <th>0</th>\n",
       "      <td>0</td>\n",
       "      <td>Stocks That Hit 52-Week Highs On Friday</td>\n",
       "      <td>https://www.benzinga.com/news/20/06/16190091/s...</td>\n",
       "      <td>Benzinga Insights</td>\n",
       "      <td>2020-06-05 10:30:54-04:00</td>\n",
       "      <td>A</td>\n",
       "    </tr>\n",
       "    <tr>\n",
       "      <th>1</th>\n",
       "      <td>1</td>\n",
       "      <td>Stocks That Hit 52-Week Highs On Wednesday</td>\n",
       "      <td>https://www.benzinga.com/news/20/06/16170189/s...</td>\n",
       "      <td>Benzinga Insights</td>\n",
       "      <td>2020-06-03 10:45:20-04:00</td>\n",
       "      <td>A</td>\n",
       "    </tr>\n",
       "    <tr>\n",
       "      <th>2</th>\n",
       "      <td>2</td>\n",
       "      <td>71 Biggest Movers From Friday</td>\n",
       "      <td>https://www.benzinga.com/news/20/05/16103463/7...</td>\n",
       "      <td>Lisa Levin</td>\n",
       "      <td>2020-05-26 04:30:07-04:00</td>\n",
       "      <td>A</td>\n",
       "    </tr>\n",
       "    <tr>\n",
       "      <th>3</th>\n",
       "      <td>3</td>\n",
       "      <td>46 Stocks Moving In Friday's Mid-Day Session</td>\n",
       "      <td>https://www.benzinga.com/news/20/05/16095921/4...</td>\n",
       "      <td>Lisa Levin</td>\n",
       "      <td>2020-05-22 12:45:06-04:00</td>\n",
       "      <td>A</td>\n",
       "    </tr>\n",
       "    <tr>\n",
       "      <th>4</th>\n",
       "      <td>4</td>\n",
       "      <td>B of A Securities Maintains Neutral on Agilent...</td>\n",
       "      <td>https://www.benzinga.com/news/20/05/16095304/b...</td>\n",
       "      <td>Vick Meyer</td>\n",
       "      <td>2020-05-22 11:38:59-04:00</td>\n",
       "      <td>A</td>\n",
       "    </tr>\n",
       "  </tbody>\n",
       "</table>\n",
       "</div>"
      ],
      "text/plain": [
       "   Unnamed: 0                                           headline  \\\n",
       "0           0            Stocks That Hit 52-Week Highs On Friday   \n",
       "1           1         Stocks That Hit 52-Week Highs On Wednesday   \n",
       "2           2                      71 Biggest Movers From Friday   \n",
       "3           3       46 Stocks Moving In Friday's Mid-Day Session   \n",
       "4           4  B of A Securities Maintains Neutral on Agilent...   \n",
       "\n",
       "                                                 url          publisher  \\\n",
       "0  https://www.benzinga.com/news/20/06/16190091/s...  Benzinga Insights   \n",
       "1  https://www.benzinga.com/news/20/06/16170189/s...  Benzinga Insights   \n",
       "2  https://www.benzinga.com/news/20/05/16103463/7...         Lisa Levin   \n",
       "3  https://www.benzinga.com/news/20/05/16095921/4...         Lisa Levin   \n",
       "4  https://www.benzinga.com/news/20/05/16095304/b...         Vick Meyer   \n",
       "\n",
       "                        date stock  \n",
       "0  2020-06-05 10:30:54-04:00     A  \n",
       "1  2020-06-03 10:45:20-04:00     A  \n",
       "2  2020-05-26 04:30:07-04:00     A  \n",
       "3  2020-05-22 12:45:06-04:00     A  \n",
       "4  2020-05-22 11:38:59-04:00     A  "
      ]
     },
     "execution_count": 38,
     "metadata": {},
     "output_type": "execute_result"
    }
   ],
   "source": [
    "sentiment_data=data.copy()\n",
    "sentiment_data.head()"
   ]
  },
  {
   "cell_type": "code",
   "execution_count": 39,
   "metadata": {},
   "outputs": [],
   "source": [
    "# Initialize VADER sentiment analyzer\n",
    "sia = SentimentIntensityAnalyzer()\n",
    "# Calculate the sentiment of the headlines\n",
    "sentiment_data['sentiment'] = sentiment_data['headline'].apply(lambda x: sia.polarity_scores(text=x)['compound'])"
   ]
  },
  {
   "cell_type": "code",
   "execution_count": 40,
   "metadata": {},
   "outputs": [
    {
     "data": {
      "text/html": [
       "<div>\n",
       "<style scoped>\n",
       "    .dataframe tbody tr th:only-of-type {\n",
       "        vertical-align: middle;\n",
       "    }\n",
       "\n",
       "    .dataframe tbody tr th {\n",
       "        vertical-align: top;\n",
       "    }\n",
       "\n",
       "    .dataframe thead th {\n",
       "        text-align: right;\n",
       "    }\n",
       "</style>\n",
       "<table border=\"1\" class=\"dataframe\">\n",
       "  <thead>\n",
       "    <tr style=\"text-align: right;\">\n",
       "      <th></th>\n",
       "      <th>Unnamed: 0</th>\n",
       "      <th>headline</th>\n",
       "      <th>url</th>\n",
       "      <th>publisher</th>\n",
       "      <th>date</th>\n",
       "      <th>stock</th>\n",
       "      <th>sentiment</th>\n",
       "    </tr>\n",
       "  </thead>\n",
       "  <tbody>\n",
       "    <tr>\n",
       "      <th>0</th>\n",
       "      <td>0</td>\n",
       "      <td>Stocks That Hit 52-Week Highs On Friday</td>\n",
       "      <td>https://www.benzinga.com/news/20/06/16190091/s...</td>\n",
       "      <td>Benzinga Insights</td>\n",
       "      <td>2020-06-05 10:30:54-04:00</td>\n",
       "      <td>A</td>\n",
       "      <td>0.000</td>\n",
       "    </tr>\n",
       "    <tr>\n",
       "      <th>1</th>\n",
       "      <td>1</td>\n",
       "      <td>Stocks That Hit 52-Week Highs On Wednesday</td>\n",
       "      <td>https://www.benzinga.com/news/20/06/16170189/s...</td>\n",
       "      <td>Benzinga Insights</td>\n",
       "      <td>2020-06-03 10:45:20-04:00</td>\n",
       "      <td>A</td>\n",
       "      <td>0.000</td>\n",
       "    </tr>\n",
       "    <tr>\n",
       "      <th>2</th>\n",
       "      <td>2</td>\n",
       "      <td>71 Biggest Movers From Friday</td>\n",
       "      <td>https://www.benzinga.com/news/20/05/16103463/7...</td>\n",
       "      <td>Lisa Levin</td>\n",
       "      <td>2020-05-26 04:30:07-04:00</td>\n",
       "      <td>A</td>\n",
       "      <td>0.000</td>\n",
       "    </tr>\n",
       "    <tr>\n",
       "      <th>3</th>\n",
       "      <td>3</td>\n",
       "      <td>46 Stocks Moving In Friday's Mid-Day Session</td>\n",
       "      <td>https://www.benzinga.com/news/20/05/16095921/4...</td>\n",
       "      <td>Lisa Levin</td>\n",
       "      <td>2020-05-22 12:45:06-04:00</td>\n",
       "      <td>A</td>\n",
       "      <td>0.000</td>\n",
       "    </tr>\n",
       "    <tr>\n",
       "      <th>4</th>\n",
       "      <td>4</td>\n",
       "      <td>B of A Securities Maintains Neutral on Agilent...</td>\n",
       "      <td>https://www.benzinga.com/news/20/05/16095304/b...</td>\n",
       "      <td>Vick Meyer</td>\n",
       "      <td>2020-05-22 11:38:59-04:00</td>\n",
       "      <td>A</td>\n",
       "      <td>0.296</td>\n",
       "    </tr>\n",
       "  </tbody>\n",
       "</table>\n",
       "</div>"
      ],
      "text/plain": [
       "   Unnamed: 0                                           headline  \\\n",
       "0           0            Stocks That Hit 52-Week Highs On Friday   \n",
       "1           1         Stocks That Hit 52-Week Highs On Wednesday   \n",
       "2           2                      71 Biggest Movers From Friday   \n",
       "3           3       46 Stocks Moving In Friday's Mid-Day Session   \n",
       "4           4  B of A Securities Maintains Neutral on Agilent...   \n",
       "\n",
       "                                                 url          publisher  \\\n",
       "0  https://www.benzinga.com/news/20/06/16190091/s...  Benzinga Insights   \n",
       "1  https://www.benzinga.com/news/20/06/16170189/s...  Benzinga Insights   \n",
       "2  https://www.benzinga.com/news/20/05/16103463/7...         Lisa Levin   \n",
       "3  https://www.benzinga.com/news/20/05/16095921/4...         Lisa Levin   \n",
       "4  https://www.benzinga.com/news/20/05/16095304/b...         Vick Meyer   \n",
       "\n",
       "                        date stock  sentiment  \n",
       "0  2020-06-05 10:30:54-04:00     A      0.000  \n",
       "1  2020-06-03 10:45:20-04:00     A      0.000  \n",
       "2  2020-05-26 04:30:07-04:00     A      0.000  \n",
       "3  2020-05-22 12:45:06-04:00     A      0.000  \n",
       "4  2020-05-22 11:38:59-04:00     A      0.296  "
      ]
     },
     "execution_count": 40,
     "metadata": {},
     "output_type": "execute_result"
    }
   ],
   "source": [
    "sentiment_data.head()"
   ]
  },
  {
   "cell_type": "code",
   "execution_count": 41,
   "metadata": {},
   "outputs": [
    {
     "data": {
      "text/html": [
       "<div>\n",
       "<style scoped>\n",
       "    .dataframe tbody tr th:only-of-type {\n",
       "        vertical-align: middle;\n",
       "    }\n",
       "\n",
       "    .dataframe tbody tr th {\n",
       "        vertical-align: top;\n",
       "    }\n",
       "\n",
       "    .dataframe thead th {\n",
       "        text-align: right;\n",
       "    }\n",
       "</style>\n",
       "<table border=\"1\" class=\"dataframe\">\n",
       "  <thead>\n",
       "    <tr style=\"text-align: right;\">\n",
       "      <th></th>\n",
       "      <th>Unnamed: 0</th>\n",
       "      <th>headline</th>\n",
       "      <th>url</th>\n",
       "      <th>publisher</th>\n",
       "      <th>date</th>\n",
       "      <th>stock</th>\n",
       "      <th>sentiment</th>\n",
       "      <th>sentiment_category</th>\n",
       "    </tr>\n",
       "  </thead>\n",
       "  <tbody>\n",
       "    <tr>\n",
       "      <th>0</th>\n",
       "      <td>0</td>\n",
       "      <td>Stocks That Hit 52-Week Highs On Friday</td>\n",
       "      <td>https://www.benzinga.com/news/20/06/16190091/s...</td>\n",
       "      <td>Benzinga Insights</td>\n",
       "      <td>2020-06-05 10:30:54-04:00</td>\n",
       "      <td>A</td>\n",
       "      <td>0.000</td>\n",
       "      <td>Neutral</td>\n",
       "    </tr>\n",
       "    <tr>\n",
       "      <th>1</th>\n",
       "      <td>1</td>\n",
       "      <td>Stocks That Hit 52-Week Highs On Wednesday</td>\n",
       "      <td>https://www.benzinga.com/news/20/06/16170189/s...</td>\n",
       "      <td>Benzinga Insights</td>\n",
       "      <td>2020-06-03 10:45:20-04:00</td>\n",
       "      <td>A</td>\n",
       "      <td>0.000</td>\n",
       "      <td>Neutral</td>\n",
       "    </tr>\n",
       "    <tr>\n",
       "      <th>2</th>\n",
       "      <td>2</td>\n",
       "      <td>71 Biggest Movers From Friday</td>\n",
       "      <td>https://www.benzinga.com/news/20/05/16103463/7...</td>\n",
       "      <td>Lisa Levin</td>\n",
       "      <td>2020-05-26 04:30:07-04:00</td>\n",
       "      <td>A</td>\n",
       "      <td>0.000</td>\n",
       "      <td>Neutral</td>\n",
       "    </tr>\n",
       "    <tr>\n",
       "      <th>3</th>\n",
       "      <td>3</td>\n",
       "      <td>46 Stocks Moving In Friday's Mid-Day Session</td>\n",
       "      <td>https://www.benzinga.com/news/20/05/16095921/4...</td>\n",
       "      <td>Lisa Levin</td>\n",
       "      <td>2020-05-22 12:45:06-04:00</td>\n",
       "      <td>A</td>\n",
       "      <td>0.000</td>\n",
       "      <td>Neutral</td>\n",
       "    </tr>\n",
       "    <tr>\n",
       "      <th>4</th>\n",
       "      <td>4</td>\n",
       "      <td>B of A Securities Maintains Neutral on Agilent...</td>\n",
       "      <td>https://www.benzinga.com/news/20/05/16095304/b...</td>\n",
       "      <td>Vick Meyer</td>\n",
       "      <td>2020-05-22 11:38:59-04:00</td>\n",
       "      <td>A</td>\n",
       "      <td>0.296</td>\n",
       "      <td>Neutral</td>\n",
       "    </tr>\n",
       "  </tbody>\n",
       "</table>\n",
       "</div>"
      ],
      "text/plain": [
       "   Unnamed: 0                                           headline  \\\n",
       "0           0            Stocks That Hit 52-Week Highs On Friday   \n",
       "1           1         Stocks That Hit 52-Week Highs On Wednesday   \n",
       "2           2                      71 Biggest Movers From Friday   \n",
       "3           3       46 Stocks Moving In Friday's Mid-Day Session   \n",
       "4           4  B of A Securities Maintains Neutral on Agilent...   \n",
       "\n",
       "                                                 url          publisher  \\\n",
       "0  https://www.benzinga.com/news/20/06/16190091/s...  Benzinga Insights   \n",
       "1  https://www.benzinga.com/news/20/06/16170189/s...  Benzinga Insights   \n",
       "2  https://www.benzinga.com/news/20/05/16103463/7...         Lisa Levin   \n",
       "3  https://www.benzinga.com/news/20/05/16095921/4...         Lisa Levin   \n",
       "4  https://www.benzinga.com/news/20/05/16095304/b...         Vick Meyer   \n",
       "\n",
       "                        date stock  sentiment sentiment_category  \n",
       "0  2020-06-05 10:30:54-04:00     A      0.000            Neutral  \n",
       "1  2020-06-03 10:45:20-04:00     A      0.000            Neutral  \n",
       "2  2020-05-26 04:30:07-04:00     A      0.000            Neutral  \n",
       "3  2020-05-22 12:45:06-04:00     A      0.000            Neutral  \n",
       "4  2020-05-22 11:38:59-04:00     A      0.296            Neutral  "
      ]
     },
     "execution_count": 41,
     "metadata": {},
     "output_type": "execute_result"
    }
   ],
   "source": [
    "# Categorize the sentiment scores\n",
    "sentiment_data['sentiment_category'] = pd.cut(sentiment_data['sentiment'], bins=[-1, -0.5, -0.0001, 0.5, 1], labels=['Very Negative', 'Negative', 'Neutral', 'Positive'])\n",
    "sentiment_data.head()"
   ]
  },
  {
   "cell_type": "code",
   "execution_count": 46,
   "metadata": {},
   "outputs": [
    {
     "data": {
      "text/plain": [
       "sentiment_category\n",
       "Neutral          1070915\n",
       "Negative          182864\n",
       "Positive          109718\n",
       "Very Negative      43831\n",
       "Name: count, dtype: int64"
      ]
     },
     "execution_count": 46,
     "metadata": {},
     "output_type": "execute_result"
    }
   ],
   "source": [
    "sentiment_data['sentiment_category'].value_counts()"
   ]
  },
  {
   "cell_type": "code",
   "execution_count": 55,
   "metadata": {},
   "outputs": [
    {
     "data": {
      "image/png": "[encoded data removed]",
      "text/plain": [
       "<Figure size 1400x400 with 1 Axes>"
      ]
     },
     "metadata": {},
     "output_type": "display_data"
    }
   ],
   "source": [
    "plt.figure(figsize=(14, 4))\n",
    "sentiment_data['sentiment_category'].value_counts().plot(kind='bar', title='Sentiment Category Distribution')\n",
    "plt.xlabel('Sentiment Category')\n",
    "plt.ylabel('Number of Headlines')\n",
    "plt.grid(True)\n",
    "plt.show()"
   ]
  },
  {
   "cell_type": "code",
   "execution_count": 62,
   "metadata": {},
   "outputs": [
    {
     "data": {
      "text/plain": [
       "6204"
      ]
     },
     "execution_count": 62,
     "metadata": {},
     "output_type": "execute_result"
    }
   ],
   "source": [
    "unique_stock_count = sentiment_data['stock'].nunique()\n",
    "unique_stock_count"
   ]
  },
  {
   "cell_type": "code",
   "execution_count": 68,
   "metadata": {},
   "outputs": [
    {
     "data": {
      "text/plain": [
       "stock\n",
       "MRK      3333\n",
       "MS       3238\n",
       "NVDA     3146\n",
       "MU       3142\n",
       "QQQ      3106\n",
       "         ... \n",
       "ADZ         1\n",
       "ADRD        1\n",
       "ACCU        1\n",
       "NGHCP       1\n",
       "ZMLP        1\n",
       "Name: count, Length: 6204, dtype: int64"
      ]
     },
     "execution_count": 68,
     "metadata": {},
     "output_type": "execute_result"
    }
   ],
   "source": [
    "sentiment_data['stock'].value_counts()"
   ]
  },
  {
   "cell_type": "code",
   "execution_count": 63,
   "metadata": {},
   "outputs": [
    {
     "data": {
      "text/html": [
       "<div>\n",
       "<style scoped>\n",
       "    .dataframe tbody tr th:only-of-type {\n",
       "        vertical-align: middle;\n",
       "    }\n",
       "\n",
       "    .dataframe tbody tr th {\n",
       "        vertical-align: top;\n",
       "    }\n",
       "\n",
       "    .dataframe thead th {\n",
       "        text-align: right;\n",
       "    }\n",
       "</style>\n",
       "<table border=\"1\" class=\"dataframe\">\n",
       "  <thead>\n",
       "    <tr style=\"text-align: right;\">\n",
       "      <th></th>\n",
       "      <th>Unnamed: 0</th>\n",
       "      <th>headline</th>\n",
       "      <th>url</th>\n",
       "      <th>publisher</th>\n",
       "      <th>date</th>\n",
       "      <th>stock</th>\n",
       "      <th>sentiment</th>\n",
       "      <th>sentiment_category</th>\n",
       "    </tr>\n",
       "  </thead>\n",
       "  <tbody>\n",
       "    <tr>\n",
       "      <th>6680</th>\n",
       "      <td>7120</td>\n",
       "      <td>Tech Stocks And FAANGS Strong Again To Start D...</td>\n",
       "      <td>https://www.benzinga.com/government/20/06/1622...</td>\n",
       "      <td>JJ Kinahan</td>\n",
       "      <td>2020-06-10 11:33:26-04:00</td>\n",
       "      <td>AAPL</td>\n",
       "      <td>0.5574</td>\n",
       "      <td>Positive</td>\n",
       "    </tr>\n",
       "    <tr>\n",
       "      <th>6681</th>\n",
       "      <td>7121</td>\n",
       "      <td>10 Biggest Price Target Changes For Wednesday</td>\n",
       "      <td>https://www.benzinga.com/analyst-ratings/price...</td>\n",
       "      <td>Lisa Levin</td>\n",
       "      <td>2020-06-10 08:14:08-04:00</td>\n",
       "      <td>AAPL</td>\n",
       "      <td>0.0000</td>\n",
       "      <td>Neutral</td>\n",
       "    </tr>\n",
       "    <tr>\n",
       "      <th>6682</th>\n",
       "      <td>7122</td>\n",
       "      <td>Benzinga Pro's Top 5 Stocks To Watch For Wed.,...</td>\n",
       "      <td>https://www.benzinga.com/short-sellers/20/06/1...</td>\n",
       "      <td>Benzinga Newsdesk</td>\n",
       "      <td>2020-06-10 07:53:47-04:00</td>\n",
       "      <td>AAPL</td>\n",
       "      <td>0.2023</td>\n",
       "      <td>Neutral</td>\n",
       "    </tr>\n",
       "    <tr>\n",
       "      <th>6683</th>\n",
       "      <td>7123</td>\n",
       "      <td>Deutsche Bank Maintains Buy on Apple, Raises P...</td>\n",
       "      <td>https://www.benzinga.com/news/20/06/16219873/d...</td>\n",
       "      <td>Benzinga Newsdesk</td>\n",
       "      <td>2020-06-10 07:19:25-04:00</td>\n",
       "      <td>AAPL</td>\n",
       "      <td>0.0000</td>\n",
       "      <td>Neutral</td>\n",
       "    </tr>\n",
       "    <tr>\n",
       "      <th>6684</th>\n",
       "      <td>7124</td>\n",
       "      <td>Apple To Let Users Trade In Their Mac Computer...</td>\n",
       "      <td>https://www.benzinga.com/news/20/06/16218697/a...</td>\n",
       "      <td>Neer Varshney</td>\n",
       "      <td>2020-06-10 06:27:11-04:00</td>\n",
       "      <td>AAPL</td>\n",
       "      <td>0.3818</td>\n",
       "      <td>Neutral</td>\n",
       "    </tr>\n",
       "    <tr>\n",
       "      <th>...</th>\n",
       "      <td>...</td>\n",
       "      <td>...</td>\n",
       "      <td>...</td>\n",
       "      <td>...</td>\n",
       "      <td>...</td>\n",
       "      <td>...</td>\n",
       "      <td>...</td>\n",
       "      <td>...</td>\n",
       "    </tr>\n",
       "    <tr>\n",
       "      <th>7116</th>\n",
       "      <td>7585</td>\n",
       "      <td>UBS Maintains Buy on Apple, Lowers Price Targe...</td>\n",
       "      <td>https://www.benzinga.com/news/20/03/15514989/u...</td>\n",
       "      <td>Vick Meyer</td>\n",
       "      <td>2020-03-10 00:00:00</td>\n",
       "      <td>AAPL</td>\n",
       "      <td>-0.1280</td>\n",
       "      <td>Negative</td>\n",
       "    </tr>\n",
       "    <tr>\n",
       "      <th>7117</th>\n",
       "      <td>7586</td>\n",
       "      <td>123 Biggest Movers From Yesterday</td>\n",
       "      <td>https://www.benzinga.com/news/20/03/15514298/1...</td>\n",
       "      <td>Lisa Levin</td>\n",
       "      <td>2020-03-10 00:00:00</td>\n",
       "      <td>AAPL</td>\n",
       "      <td>0.0000</td>\n",
       "      <td>Neutral</td>\n",
       "    </tr>\n",
       "    <tr>\n",
       "      <th>7118</th>\n",
       "      <td>7587</td>\n",
       "      <td>Crude Awakening: Energy Sector Takes A 20% Spi...</td>\n",
       "      <td>https://www.benzinga.com/news/earnings/20/03/1...</td>\n",
       "      <td>JJ Kinahan</td>\n",
       "      <td>2020-03-09 00:00:00</td>\n",
       "      <td>AAPL</td>\n",
       "      <td>-0.9062</td>\n",
       "      <td>Very Negative</td>\n",
       "    </tr>\n",
       "    <tr>\n",
       "      <th>7119</th>\n",
       "      <td>7588</td>\n",
       "      <td>Investor Movement Index Summary: February 2020</td>\n",
       "      <td>https://www.benzinga.com/news/earnings/20/03/1...</td>\n",
       "      <td>TD Ameritrade</td>\n",
       "      <td>2020-03-09 00:00:00</td>\n",
       "      <td>AAPL</td>\n",
       "      <td>0.0000</td>\n",
       "      <td>Neutral</td>\n",
       "    </tr>\n",
       "    <tr>\n",
       "      <th>7120</th>\n",
       "      <td>7589</td>\n",
       "      <td>101 Stocks Moving In Monday's Mid-Day Session</td>\n",
       "      <td>https://www.benzinga.com/news/20/03/15508983/1...</td>\n",
       "      <td>Lisa Levin</td>\n",
       "      <td>2020-03-09 00:00:00</td>\n",
       "      <td>AAPL</td>\n",
       "      <td>0.0000</td>\n",
       "      <td>Neutral</td>\n",
       "    </tr>\n",
       "  </tbody>\n",
       "</table>\n",
       "<p>441 rows × 8 columns</p>\n",
       "</div>"
      ],
      "text/plain": [
       "      Unnamed: 0                                           headline  \\\n",
       "6680        7120  Tech Stocks And FAANGS Strong Again To Start D...   \n",
       "6681        7121      10 Biggest Price Target Changes For Wednesday   \n",
       "6682        7122  Benzinga Pro's Top 5 Stocks To Watch For Wed.,...   \n",
       "6683        7123  Deutsche Bank Maintains Buy on Apple, Raises P...   \n",
       "6684        7124  Apple To Let Users Trade In Their Mac Computer...   \n",
       "...          ...                                                ...   \n",
       "7116        7585  UBS Maintains Buy on Apple, Lowers Price Targe...   \n",
       "7117        7586                  123 Biggest Movers From Yesterday   \n",
       "7118        7587  Crude Awakening: Energy Sector Takes A 20% Spi...   \n",
       "7119        7588     Investor Movement Index Summary: February 2020   \n",
       "7120        7589      101 Stocks Moving In Monday's Mid-Day Session   \n",
       "\n",
       "                                                    url          publisher  \\\n",
       "6680  https://www.benzinga.com/government/20/06/1622...         JJ Kinahan   \n",
       "6681  https://www.benzinga.com/analyst-ratings/price...         Lisa Levin   \n",
       "6682  https://www.benzinga.com/short-sellers/20/06/1...  Benzinga Newsdesk   \n",
       "6683  https://www.benzinga.com/news/20/06/16219873/d...  Benzinga Newsdesk   \n",
       "6684  https://www.benzinga.com/news/20/06/16218697/a...      Neer Varshney   \n",
       "...                                                 ...                ...   \n",
       "7116  https://www.benzinga.com/news/20/03/15514989/u...         Vick Meyer   \n",
       "7117  https://www.benzinga.com/news/20/03/15514298/1...         Lisa Levin   \n",
       "7118  https://www.benzinga.com/news/earnings/20/03/1...         JJ Kinahan   \n",
       "7119  https://www.benzinga.com/news/earnings/20/03/1...      TD Ameritrade   \n",
       "7120  https://www.benzinga.com/news/20/03/15508983/1...         Lisa Levin   \n",
       "\n",
       "                           date stock  sentiment sentiment_category  \n",
       "6680  2020-06-10 11:33:26-04:00  AAPL     0.5574           Positive  \n",
       "6681  2020-06-10 08:14:08-04:00  AAPL     0.0000            Neutral  \n",
       "6682  2020-06-10 07:53:47-04:00  AAPL     0.2023            Neutral  \n",
       "6683  2020-06-10 07:19:25-04:00  AAPL     0.0000            Neutral  \n",
       "6684  2020-06-10 06:27:11-04:00  AAPL     0.3818            Neutral  \n",
       "...                         ...   ...        ...                ...  \n",
       "7116        2020-03-10 00:00:00  AAPL    -0.1280           Negative  \n",
       "7117        2020-03-10 00:00:00  AAPL     0.0000            Neutral  \n",
       "7118        2020-03-09 00:00:00  AAPL    -0.9062      Very Negative  \n",
       "7119        2020-03-09 00:00:00  AAPL     0.0000            Neutral  \n",
       "7120        2020-03-09 00:00:00  AAPL     0.0000            Neutral  \n",
       "\n",
       "[441 rows x 8 columns]"
      ]
     },
     "execution_count": 63,
     "metadata": {},
     "output_type": "execute_result"
    }
   ],
   "source": [
    "# AAPLE\n",
    "apple_data = sentiment_data[sentiment_data['stock'] == 'AAPL']\n",
    "apple_data"
   ]
  },
  {
   "cell_type": "code",
   "execution_count": null,
   "metadata": {},
   "outputs": [],
   "source": [
    "apple_data = sentiment_data[sentiment_data['stock'] == 'AAPL']\n",
    "apple_data"
   ]
  },
  {
   "cell_type": "code",
   "execution_count": 66,
   "metadata": {},
   "outputs": [
    {
     "data": {
      "text/html": [
       "<div>\n",
       "<style scoped>\n",
       "    .dataframe tbody tr th:only-of-type {\n",
       "        vertical-align: middle;\n",
       "    }\n",
       "\n",
       "    .dataframe tbody tr th {\n",
       "        vertical-align: top;\n",
       "    }\n",
       "\n",
       "    .dataframe thead th {\n",
       "        text-align: right;\n",
       "    }\n",
       "</style>\n",
       "<table border=\"1\" class=\"dataframe\">\n",
       "  <thead>\n",
       "    <tr style=\"text-align: right;\">\n",
       "      <th></th>\n",
       "      <th>Unnamed: 0</th>\n",
       "      <th>headline</th>\n",
       "      <th>url</th>\n",
       "      <th>publisher</th>\n",
       "      <th>date</th>\n",
       "      <th>stock</th>\n",
       "      <th>sentiment</th>\n",
       "      <th>sentiment_category</th>\n",
       "    </tr>\n",
       "  </thead>\n",
       "  <tbody>\n",
       "    <tr>\n",
       "      <th>0</th>\n",
       "      <td>0</td>\n",
       "      <td>Stocks That Hit 52-Week Highs On Friday</td>\n",
       "      <td>https://www.benzinga.com/news/20/06/16190091/s...</td>\n",
       "      <td>Benzinga Insights</td>\n",
       "      <td>2020-06-05 10:30:54-04:00</td>\n",
       "      <td>A</td>\n",
       "      <td>0.0000</td>\n",
       "      <td>Neutral</td>\n",
       "    </tr>\n",
       "    <tr>\n",
       "      <th>1</th>\n",
       "      <td>1</td>\n",
       "      <td>Stocks That Hit 52-Week Highs On Wednesday</td>\n",
       "      <td>https://www.benzinga.com/news/20/06/16170189/s...</td>\n",
       "      <td>Benzinga Insights</td>\n",
       "      <td>2020-06-03 10:45:20-04:00</td>\n",
       "      <td>A</td>\n",
       "      <td>0.0000</td>\n",
       "      <td>Neutral</td>\n",
       "    </tr>\n",
       "    <tr>\n",
       "      <th>2</th>\n",
       "      <td>2</td>\n",
       "      <td>71 Biggest Movers From Friday</td>\n",
       "      <td>https://www.benzinga.com/news/20/05/16103463/7...</td>\n",
       "      <td>Lisa Levin</td>\n",
       "      <td>2020-05-26 04:30:07-04:00</td>\n",
       "      <td>A</td>\n",
       "      <td>0.0000</td>\n",
       "      <td>Neutral</td>\n",
       "    </tr>\n",
       "    <tr>\n",
       "      <th>3</th>\n",
       "      <td>3</td>\n",
       "      <td>46 Stocks Moving In Friday's Mid-Day Session</td>\n",
       "      <td>https://www.benzinga.com/news/20/05/16095921/4...</td>\n",
       "      <td>Lisa Levin</td>\n",
       "      <td>2020-05-22 12:45:06-04:00</td>\n",
       "      <td>A</td>\n",
       "      <td>0.0000</td>\n",
       "      <td>Neutral</td>\n",
       "    </tr>\n",
       "    <tr>\n",
       "      <th>4</th>\n",
       "      <td>4</td>\n",
       "      <td>B of A Securities Maintains Neutral on Agilent...</td>\n",
       "      <td>https://www.benzinga.com/news/20/05/16095304/b...</td>\n",
       "      <td>Vick Meyer</td>\n",
       "      <td>2020-05-22 11:38:59-04:00</td>\n",
       "      <td>A</td>\n",
       "      <td>0.2960</td>\n",
       "      <td>Neutral</td>\n",
       "    </tr>\n",
       "    <tr>\n",
       "      <th>...</th>\n",
       "      <td>...</td>\n",
       "      <td>...</td>\n",
       "      <td>...</td>\n",
       "      <td>...</td>\n",
       "      <td>...</td>\n",
       "      <td>...</td>\n",
       "      <td>...</td>\n",
       "      <td>...</td>\n",
       "    </tr>\n",
       "    <tr>\n",
       "      <th>1428</th>\n",
       "      <td>1830</td>\n",
       "      <td>A Simulation of China's 2,$$$,$$$,$$$,$$$ Dive...</td>\n",
       "      <td>https://www.benzinga.com/9382/a-simulation-of-...</td>\n",
       "      <td>prudentinvestor</td>\n",
       "      <td>2009-08-04 00:00:00</td>\n",
       "      <td>A</td>\n",
       "      <td>0.0000</td>\n",
       "      <td>Neutral</td>\n",
       "    </tr>\n",
       "    <tr>\n",
       "      <th>1429</th>\n",
       "      <td>1831</td>\n",
       "      <td>The Gold/Silver Ratio From 1300 to 1900...And Now</td>\n",
       "      <td>https://www.benzinga.com/prudentinvestor/2009/...</td>\n",
       "      <td>prudentinvestor</td>\n",
       "      <td>2009-07-30 00:00:00</td>\n",
       "      <td>A</td>\n",
       "      <td>0.0000</td>\n",
       "      <td>Neutral</td>\n",
       "    </tr>\n",
       "    <tr>\n",
       "      <th>1430</th>\n",
       "      <td>1832</td>\n",
       "      <td>Skystar Bio-Pharmaceutical Announces Expansion...</td>\n",
       "      <td>https://www.benzinga.com/5329/skystar-bio-phar...</td>\n",
       "      <td>superman</td>\n",
       "      <td>2009-07-14 00:00:00</td>\n",
       "      <td>A</td>\n",
       "      <td>0.3818</td>\n",
       "      <td>Neutral</td>\n",
       "    </tr>\n",
       "    <tr>\n",
       "      <th>1431</th>\n",
       "      <td>1833</td>\n",
       "      <td>super-trades - Two 52 week highs and others ab...</td>\n",
       "      <td>https://www.benzinga.com/superman/2009/6/1/sup...</td>\n",
       "      <td>superman</td>\n",
       "      <td>2009-06-01 00:00:00</td>\n",
       "      <td>A</td>\n",
       "      <td>0.2960</td>\n",
       "      <td>Neutral</td>\n",
       "    </tr>\n",
       "    <tr>\n",
       "      <th>1432</th>\n",
       "      <td>1834</td>\n",
       "      <td>Going Against the Herd</td>\n",
       "      <td>https://www.benzinga.com/charles-lewis-sizemor...</td>\n",
       "      <td>Charles Lewis Sizemore CFA</td>\n",
       "      <td>2009-04-29 00:00:00</td>\n",
       "      <td>A</td>\n",
       "      <td>0.0000</td>\n",
       "      <td>Neutral</td>\n",
       "    </tr>\n",
       "  </tbody>\n",
       "</table>\n",
       "<p>1433 rows × 8 columns</p>\n",
       "</div>"
      ],
      "text/plain": [
       "      Unnamed: 0                                           headline  \\\n",
       "0              0            Stocks That Hit 52-Week Highs On Friday   \n",
       "1              1         Stocks That Hit 52-Week Highs On Wednesday   \n",
       "2              2                      71 Biggest Movers From Friday   \n",
       "3              3       46 Stocks Moving In Friday's Mid-Day Session   \n",
       "4              4  B of A Securities Maintains Neutral on Agilent...   \n",
       "...          ...                                                ...   \n",
       "1428        1830  A Simulation of China's 2,$$$,$$$,$$$,$$$ Dive...   \n",
       "1429        1831  The Gold/Silver Ratio From 1300 to 1900...And Now   \n",
       "1430        1832  Skystar Bio-Pharmaceutical Announces Expansion...   \n",
       "1431        1833  super-trades - Two 52 week highs and others ab...   \n",
       "1432        1834                             Going Against the Herd   \n",
       "\n",
       "                                                    url  \\\n",
       "0     https://www.benzinga.com/news/20/06/16190091/s...   \n",
       "1     https://www.benzinga.com/news/20/06/16170189/s...   \n",
       "2     https://www.benzinga.com/news/20/05/16103463/7...   \n",
       "3     https://www.benzinga.com/news/20/05/16095921/4...   \n",
       "4     https://www.benzinga.com/news/20/05/16095304/b...   \n",
       "...                                                 ...   \n",
       "1428  https://www.benzinga.com/9382/a-simulation-of-...   \n",
       "1429  https://www.benzinga.com/prudentinvestor/2009/...   \n",
       "1430  https://www.benzinga.com/5329/skystar-bio-phar...   \n",
       "1431  https://www.benzinga.com/superman/2009/6/1/sup...   \n",
       "1432  https://www.benzinga.com/charles-lewis-sizemor...   \n",
       "\n",
       "                       publisher                       date stock  sentiment  \\\n",
       "0              Benzinga Insights  2020-06-05 10:30:54-04:00     A     0.0000   \n",
       "1              Benzinga Insights  2020-06-03 10:45:20-04:00     A     0.0000   \n",
       "2                     Lisa Levin  2020-05-26 04:30:07-04:00     A     0.0000   \n",
       "3                     Lisa Levin  2020-05-22 12:45:06-04:00     A     0.0000   \n",
       "4                     Vick Meyer  2020-05-22 11:38:59-04:00     A     0.2960   \n",
       "...                          ...                        ...   ...        ...   \n",
       "1428             prudentinvestor        2009-08-04 00:00:00     A     0.0000   \n",
       "1429             prudentinvestor        2009-07-30 00:00:00     A     0.0000   \n",
       "1430                    superman        2009-07-14 00:00:00     A     0.3818   \n",
       "1431                    superman        2009-06-01 00:00:00     A     0.2960   \n",
       "1432  Charles Lewis Sizemore CFA        2009-04-29 00:00:00     A     0.0000   \n",
       "\n",
       "     sentiment_category  \n",
       "0               Neutral  \n",
       "1               Neutral  \n",
       "2               Neutral  \n",
       "3               Neutral  \n",
       "4               Neutral  \n",
       "...                 ...  \n",
       "1428            Neutral  \n",
       "1429            Neutral  \n",
       "1430            Neutral  \n",
       "1431            Neutral  \n",
       "1432            Neutral  \n",
       "\n",
       "[1433 rows x 8 columns]"
      ]
     },
     "execution_count": 66,
     "metadata": {},
     "output_type": "execute_result"
    }
   ],
   "source": [
    "# AAPLE\n",
    "data_A = sentiment_data[sentiment_data['stock'] == 'A']\n",
    "data_A"
   ]
  },
  {
   "cell_type": "markdown",
   "metadata": {},
   "source": [
    "Topic Model using "
   ]
  },
  {
   "cell_type": "code",
   "execution_count": null,
   "metadata": {},
   "outputs": [],
   "source": [
    "import gensim\n",
    "from gensim import corpora\n",
    "from nltk.tokenize import word_tokenize\n",
    "from nltk.corpus import stopwords\n",
    "import nltk\n",
    "# Download NLTK data (if not already installed)\n",
    "nltk.download('punkt')\n",
    "nltk.download('stopwords')\n",
    "\n",
    "# Preprocess the headlines: Tokenization and removing stopwords\n",
    "stop_words = set(stopwords.words('english'))\n",
    "df['processed_headline'] = df['headline'].apply(lambda x: [word for word in word_tokenize(x.lower()) if word.isalnum() and word not in stop_words])\n",
    "\n",
    "# Create a dictionary and corpus for topic modeling\n",
    "dictionary = corpora.Dictionary(df['processed_headline'])\n",
    "corpus = [dictionary.doc2bow(text) for text in df['processed_headline']]\n",
    "\n",
    "# Perform LDA to extract topics\n",
    "lda_model = gensim.models.ldamodel.LdaModel(corpus, num_topics=5, id2word=dictionary, passes=15)\n",
    "\n",
    "# Print the topics identified\n",
    "topics = lda_model.print_topics(num_words=5)\n",
    "for topic in topics:\n",
    "    print(topic)"
   ]
  },
  {
   "cell_type": "markdown",
   "metadata": {},
   "source": [
    "Time Series Analysis:"
   ]
  },
  {
   "cell_type": "code",
   "execution_count": 72,
   "metadata": {},
   "outputs": [],
   "source": [
    "# Count headlines per day\n",
    "time_series_data=data.copy()\n",
    "\n",
    "daily_headlines = time_series_data.groupby('date').size()\n",
    "\n",
    "# Create a DataFrame for time series analysis\n",
    "time_series_data = pd.DataFrame({'Date': daily_headlines.index, 'Headlines_Count': daily_headlines.values})\n",
    "time_series_data.set_index('Date', inplace=True)\n"
   ]
  },
  {
   "cell_type": "code",
   "execution_count": 73,
   "metadata": {},
   "outputs": [
    {
     "name": "stdout",
     "output_type": "stream",
     "text": [
      "                           Headlines_Count\n",
      "Date                                      \n",
      "2009-02-14 00:00:00                      1\n",
      "2009-04-27 00:00:00                      2\n",
      "2009-04-29 00:00:00                      1\n",
      "2009-05-22 00:00:00                      1\n",
      "2009-05-27 00:00:00                      6\n",
      "...                                    ...\n",
      "2020-06-11 16:49:41-04:00                1\n",
      "2020-06-11 16:51:33-04:00                1\n",
      "2020-06-11 17:01:39-04:00                1\n",
      "2020-06-11 17:11:20-04:00                1\n",
      "2020-06-11 17:12:35-04:00                1\n",
      "\n",
      "[39957 rows x 1 columns]\n"
     ]
    }
   ],
   "source": [
    "print(time_series_data)"
   ]
  },
  {
   "cell_type": "code",
   "execution_count": 74,
   "metadata": {},
   "outputs": [
    {
     "data": {
      "image/png": "[encoded data removed]",
      "text/plain": [
       "<Figure size 1400x1000 with 4 Axes>"
      ]
     },
     "metadata": {},
     "output_type": "display_data"
    }
   ],
   "source": [
    "decomposition = seasonal_decompose(time_series_data['Headlines_Count'], model='additive', period=30)\n",
    "\n",
    "# Plotting the components\n",
    "plt.figure(figsize=(14, 10))\n",
    "\n",
    "plt.subplot(411)\n",
    "plt.plot(time_series_data['Headlines_Count'], label='Original', color='blue')\n",
    "plt.legend(loc='upper left')\n",
    "\n",
    "plt.subplot(412)\n",
    "plt.plot(decomposition.trend, label='Trend', color='orange')\n",
    "plt.legend(loc='upper left')\n",
    "\n",
    "plt.subplot(413)\n",
    "plt.plot(decomposition.seasonal, label='Seasonal', color='green')\n",
    "plt.legend(loc='upper left')\n",
    "\n",
    "plt.subplot(414)\n",
    "plt.plot(decomposition.resid, label='Residual/Irregular', color='red')\n",
    "plt.legend(loc='upper left')\n",
    "\n",
    "plt.tight_layout()\n",
    "plt.show()"
   ]
  },
  {
   "cell_type": "code",
   "execution_count": 84,
   "metadata": {},
   "outputs": [
    {
     "name": "stderr",
     "output_type": "stream",
     "text": [
      "[nltk_data] Downloading package punkt to\n",
      "[nltk_data]     C:\\Users\\asmam\\AppData\\Roaming\\nltk_data...\n",
      "[nltk_data]   Package punkt is already up-to-date!\n",
      "[nltk_data] Downloading package stopwords to\n",
      "[nltk_data]     C:\\Users\\asmam\\AppData\\Roaming\\nltk_data...\n",
      "[nltk_data]   Package stopwords is already up-to-date!\n"
     ]
    },
    {
     "name": "stdout",
     "output_type": "stream",
     "text": [
      "showing info https://raw.githubusercontent.com/nltk/nltk_data/gh-pages/index.xml\n"
     ]
    },
    {
     "data": {
      "text/plain": [
       "True"
      ]
     },
     "execution_count": 84,
     "metadata": {},
     "output_type": "execute_result"
    }
   ],
   "source": [
    "import nltk\n",
    "\n",
    "# Download the 'punkt' tokenizer data\n",
    "nltk.download('punkt')\n",
    "nltk.download('stopwords')\n",
    "nltk.download()\n"
   ]
  },
  {
   "cell_type": "code",
   "execution_count": 86,
   "metadata": {},
   "outputs": [
    {
     "name": "stderr",
     "output_type": "stream",
     "text": [
      "[nltk_data] Downloading package punkt_tab to\n",
      "[nltk_data]     C:\\Users\\asmam\\AppData\\Roaming\\nltk_data...\n",
      "[nltk_data]   Unzipping tokenizers\\punkt_tab.zip.\n"
     ]
    },
    {
     "data": {
      "text/plain": [
       "True"
      ]
     },
     "execution_count": 86,
     "metadata": {},
     "output_type": "execute_result"
    }
   ],
   "source": [
    "nltk.download('punkt_tab')"
   ]
  },
  {
   "cell_type": "code",
   "execution_count": 78,
   "metadata": {},
   "outputs": [],
   "source": [
    "tf_data=data.copy()"
   ]
  },
  {
   "cell_type": "code",
   "execution_count": 87,
   "metadata": {},
   "outputs": [],
   "source": [
    "# Assuming 'headline' column contains the text data\n",
    "tf_data['headline'] = tf_data['headline'].astype(str)  # Ensure all data is string\n",
    "\n",
    "# Text preprocessing function\n",
    "def preprocess_text(text):\n",
    "    # Remove punctuation and non-alphabetic characters\n",
    "    text = re.sub(r'[^a-zA-Z\\s]', '', text)\n",
    "    # Tokenize\n",
    "    tokens = word_tokenize(text.lower())\n",
    "    # Remove stopwords\n",
    "    tokens = [word for word in tokens if word not in stopwords.words('english')]\n",
    "    # Join tokens back into string\n",
    "    return ' '.join(tokens)\n",
    "\n",
    "# Apply preprocessing to the headlines\n",
    "tf_data['cleaned_headline'] = tf_data['headline'].apply(preprocess_text)"
   ]
  },
  {
   "cell_type": "code",
   "execution_count": 88,
   "metadata": {},
   "outputs": [
    {
     "data": {
      "text/html": [
       "<div>\n",
       "<style scoped>\n",
       "    .dataframe tbody tr th:only-of-type {\n",
       "        vertical-align: middle;\n",
       "    }\n",
       "\n",
       "    .dataframe tbody tr th {\n",
       "        vertical-align: top;\n",
       "    }\n",
       "\n",
       "    .dataframe thead th {\n",
       "        text-align: right;\n",
       "    }\n",
       "</style>\n",
       "<table border=\"1\" class=\"dataframe\">\n",
       "  <thead>\n",
       "    <tr style=\"text-align: right;\">\n",
       "      <th></th>\n",
       "      <th>Unnamed: 0</th>\n",
       "      <th>headline</th>\n",
       "      <th>url</th>\n",
       "      <th>publisher</th>\n",
       "      <th>date</th>\n",
       "      <th>stock</th>\n",
       "      <th>cleaned_headline</th>\n",
       "    </tr>\n",
       "  </thead>\n",
       "  <tbody>\n",
       "    <tr>\n",
       "      <th>0</th>\n",
       "      <td>0</td>\n",
       "      <td>Stocks That Hit 52-Week Highs On Friday</td>\n",
       "      <td>https://www.benzinga.com/news/20/06/16190091/s...</td>\n",
       "      <td>Benzinga Insights</td>\n",
       "      <td>2020-06-05 10:30:54-04:00</td>\n",
       "      <td>A</td>\n",
       "      <td>stocks hit week highs friday</td>\n",
       "    </tr>\n",
       "    <tr>\n",
       "      <th>1</th>\n",
       "      <td>1</td>\n",
       "      <td>Stocks That Hit 52-Week Highs On Wednesday</td>\n",
       "      <td>https://www.benzinga.com/news/20/06/16170189/s...</td>\n",
       "      <td>Benzinga Insights</td>\n",
       "      <td>2020-06-03 10:45:20-04:00</td>\n",
       "      <td>A</td>\n",
       "      <td>stocks hit week highs wednesday</td>\n",
       "    </tr>\n",
       "    <tr>\n",
       "      <th>2</th>\n",
       "      <td>2</td>\n",
       "      <td>71 Biggest Movers From Friday</td>\n",
       "      <td>https://www.benzinga.com/news/20/05/16103463/7...</td>\n",
       "      <td>Lisa Levin</td>\n",
       "      <td>2020-05-26 04:30:07-04:00</td>\n",
       "      <td>A</td>\n",
       "      <td>biggest movers friday</td>\n",
       "    </tr>\n",
       "    <tr>\n",
       "      <th>3</th>\n",
       "      <td>3</td>\n",
       "      <td>46 Stocks Moving In Friday's Mid-Day Session</td>\n",
       "      <td>https://www.benzinga.com/news/20/05/16095921/4...</td>\n",
       "      <td>Lisa Levin</td>\n",
       "      <td>2020-05-22 12:45:06-04:00</td>\n",
       "      <td>A</td>\n",
       "      <td>stocks moving fridays midday session</td>\n",
       "    </tr>\n",
       "    <tr>\n",
       "      <th>4</th>\n",
       "      <td>4</td>\n",
       "      <td>B of A Securities Maintains Neutral on Agilent...</td>\n",
       "      <td>https://www.benzinga.com/news/20/05/16095304/b...</td>\n",
       "      <td>Vick Meyer</td>\n",
       "      <td>2020-05-22 11:38:59-04:00</td>\n",
       "      <td>A</td>\n",
       "      <td>b securities maintains neutral agilent technol...</td>\n",
       "    </tr>\n",
       "  </tbody>\n",
       "</table>\n",
       "</div>"
      ],
      "text/plain": [
       "   Unnamed: 0                                           headline  \\\n",
       "0           0            Stocks That Hit 52-Week Highs On Friday   \n",
       "1           1         Stocks That Hit 52-Week Highs On Wednesday   \n",
       "2           2                      71 Biggest Movers From Friday   \n",
       "3           3       46 Stocks Moving In Friday's Mid-Day Session   \n",
       "4           4  B of A Securities Maintains Neutral on Agilent...   \n",
       "\n",
       "                                                 url          publisher  \\\n",
       "0  https://www.benzinga.com/news/20/06/16190091/s...  Benzinga Insights   \n",
       "1  https://www.benzinga.com/news/20/06/16170189/s...  Benzinga Insights   \n",
       "2  https://www.benzinga.com/news/20/05/16103463/7...         Lisa Levin   \n",
       "3  https://www.benzinga.com/news/20/05/16095921/4...         Lisa Levin   \n",
       "4  https://www.benzinga.com/news/20/05/16095304/b...         Vick Meyer   \n",
       "\n",
       "                        date stock  \\\n",
       "0  2020-06-05 10:30:54-04:00     A   \n",
       "1  2020-06-03 10:45:20-04:00     A   \n",
       "2  2020-05-26 04:30:07-04:00     A   \n",
       "3  2020-05-22 12:45:06-04:00     A   \n",
       "4  2020-05-22 11:38:59-04:00     A   \n",
       "\n",
       "                                    cleaned_headline  \n",
       "0                       stocks hit week highs friday  \n",
       "1                    stocks hit week highs wednesday  \n",
       "2                              biggest movers friday  \n",
       "3               stocks moving fridays midday session  \n",
       "4  b securities maintains neutral agilent technol...  "
      ]
     },
     "execution_count": 88,
     "metadata": {},
     "output_type": "execute_result"
    }
   ],
   "source": [
    "tf_data.head()"
   ]
  },
  {
   "cell_type": "code",
   "execution_count": 90,
   "metadata": {},
   "outputs": [],
   "source": [
    "# Vectorize the text data using TF-IDF\n",
    "vectorizer = TfidfVectorizer(max_df=0.95, min_df=2, stop_words='english')\n",
    "tfidf_matrix = vectorizer.fit_transform(tf_data['cleaned_headline'])\n",
    "\n",
    "# Get the feature names (i.e., words)\n",
    "tfidf_feature_names = vectorizer.get_feature_names_out()\n"
   ]
  },
  {
   "cell_type": "code",
   "execution_count": 91,
   "metadata": {},
   "outputs": [
    {
     "name": "stdout",
     "output_type": "stream",
     "text": [
      "Topic #1:\n",
      "session moving stocks premarket midday alert option wednesdays thursdays tuesdays\n",
      "\n",
      "Topic #2:\n",
      "benzingas movers upgrades downgrades biggest yesterday market update volume shares\n",
      "\n",
      "Topic #3:\n",
      "pt maintains buy raises target price neutral downgrades lowers initiates\n",
      "\n",
      "Topic #4:\n",
      "shares trading industry highest companies stocks lower oil higher amid\n",
      "\n",
      "Topic #5:\n",
      "earnings scheduled estimate watch february beats stocks august beat april\n",
      "\n",
      "Topic #6:\n",
      "scheduled benzingas earnings losers watch etfs october november march initiations\n",
      "\n",
      "Topic #7:\n",
      "says announces shares analyst deal new blog stake options ceo\n",
      "\n",
      "Topic #8:\n",
      "week stocks hit highs lows set new biggest thursday friday\n",
      "\n",
      "Topic #9:\n",
      "markets market update earnings stock futures news ahead higher shares\n",
      "\n",
      "Topic #10:\n",
      "vs est eps reports sales fy sees revenue adj yoy\n",
      "\n"
     ]
    }
   ],
   "source": [
    "from sklearn.decomposition import LatentDirichletAllocation\n",
    "\n",
    "# Set the number of topics\n",
    "num_topics = 10\n",
    "\n",
    "# Apply LDA\n",
    "lda = LatentDirichletAllocation(n_components=num_topics, random_state=42)\n",
    "lda.fit(tfidf_matrix)\n",
    "\n",
    "# Display the topics\n",
    "def display_topics(model, feature_names, num_top_words):\n",
    "    for topic_idx, topic in enumerate(model.components_):\n",
    "        print(f\"Topic #{topic_idx+1}:\")\n",
    "        print(\" \".join([feature_names[i] for i in topic.argsort()[:-num_top_words - 1:-1]]))\n",
    "        print()\n",
    "\n",
    "# Display the top 10 words for each topic\n",
    "display_topics(lda, tfidf_feature_names, 10)\n"
   ]
  },
  {
   "cell_type": "code",
   "execution_count": null,
   "metadata": {},
   "outputs": [],
   "source": []
  }
 ],
 "metadata": {
  "kernelspec": {
   "display_name": "venv",
   "language": "python",
   "name": "python3"
  },
  "language_info": {
   "codemirror_mode": {
    "name": "ipython",
    "version": 3
   },
   "file_extension": ".py",
   "mimetype": "text/x-python",
   "name": "python",
   "nbconvert_exporter": "python",
   "pygments_lexer": "ipython3",
   "version": "3.11.9"
  }
 },
 "nbformat": 4,
 "nbformat_minor": 2
}
