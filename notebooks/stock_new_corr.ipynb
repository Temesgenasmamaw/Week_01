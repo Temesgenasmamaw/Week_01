{
 "cells": [
  {
   "cell_type": "code",
   "execution_count": 1,
   "metadata": {},
   "outputs": [],
   "source": [
    "import os\n",
    "import sys\n",
    "import pandas as pd\n",
    "import yfinance as yf\n",
    "import plotly as px"
   ]
  },
  {
   "cell_type": "code",
   "execution_count": 2,
   "metadata": {},
   "outputs": [],
   "source": [
    "import os, sys\n",
    "import nltk\n",
    "from nltk.sentiment.vader import SentimentIntensityAnalyzer\n",
    "import matplotlib.pyplot as plt\n",
    "from nltk.tokenize import word_tokenize\n",
    "from statsmodels.tsa.seasonal import seasonal_decompose\n",
    "import re\n",
    "from sklearn.feature_extraction.text import CountVectorizer, TfidfVectorizer\n",
    "from nltk.tokenize import word_tokenize"
   ]
  },
  {
   "cell_type": "code",
   "execution_count": 3,
   "metadata": {},
   "outputs": [
    {
     "name": "stdout",
     "output_type": "stream",
     "text": [
      "d:\\Kifya\\Week01\\notebooks\n",
      "d:\\Kifya\\Week01\n"
     ]
    }
   ],
   "source": [
    "\n",
    "\n",
    "# Get theconda create --name talib python=3.9 current working directory\n",
    "current_dir = os.getcwd()\n",
    "print(current_dir)\n",
    "\n",
    "# Get the parent directory\n",
    "parent_dir = os.path.dirname(current_dir)\n",
    "print(parent_dir)\n",
    "\n",
    "# Insert the path to the parent directory\n",
    "sys.path.insert(0, parent_dir)\n",
    "\n",
    "# # Insert the path to the Scripts directory\n",
    "# sys.path.insert(0, os.path.join(parent_dir, 'Scripts'))\n",
    "\n",
    "# print(sys.path)"
   ]
  },
  {
   "cell_type": "code",
   "execution_count": 4,
   "metadata": {},
   "outputs": [],
   "source": [
    "# nltk.download('vader_lexicon')"
   ]
  },
  {
   "cell_type": "code",
   "execution_count": 5,
   "metadata": {},
   "outputs": [
    {
     "data": {
      "text/html": [
       "<div>\n",
       "<style scoped>\n",
       "    .dataframe tbody tr th:only-of-type {\n",
       "        vertical-align: middle;\n",
       "    }\n",
       "\n",
       "    .dataframe tbody tr th {\n",
       "        vertical-align: top;\n",
       "    }\n",
       "\n",
       "    .dataframe thead th {\n",
       "        text-align: right;\n",
       "    }\n",
       "</style>\n",
       "<table border=\"1\" class=\"dataframe\">\n",
       "  <thead>\n",
       "    <tr style=\"text-align: right;\">\n",
       "      <th></th>\n",
       "      <th>Unnamed: 0</th>\n",
       "      <th>headline</th>\n",
       "      <th>url</th>\n",
       "      <th>publisher</th>\n",
       "      <th>date</th>\n",
       "      <th>stock</th>\n",
       "      <th>local_date</th>\n",
       "      <th>date_only</th>\n",
       "    </tr>\n",
       "  </thead>\n",
       "  <tbody>\n",
       "    <tr>\n",
       "      <th>0</th>\n",
       "      <td>0</td>\n",
       "      <td>Stocks That Hit 52-Week Highs On Friday</td>\n",
       "      <td>https://www.benzinga.com/news/20/06/16190091/s...</td>\n",
       "      <td>Benzinga Insights</td>\n",
       "      <td>2020-06-05 10:30:54-04:00</td>\n",
       "      <td>A</td>\n",
       "      <td>2020-06-05 10:30:54</td>\n",
       "      <td>2020-06-05</td>\n",
       "    </tr>\n",
       "    <tr>\n",
       "      <th>1</th>\n",
       "      <td>1</td>\n",
       "      <td>Stocks That Hit 52-Week Highs On Wednesday</td>\n",
       "      <td>https://www.benzinga.com/news/20/06/16170189/s...</td>\n",
       "      <td>Benzinga Insights</td>\n",
       "      <td>2020-06-03 10:45:20-04:00</td>\n",
       "      <td>A</td>\n",
       "      <td>2020-06-03 10:45:20</td>\n",
       "      <td>2020-06-03</td>\n",
       "    </tr>\n",
       "    <tr>\n",
       "      <th>2</th>\n",
       "      <td>2</td>\n",
       "      <td>71 Biggest Movers From Friday</td>\n",
       "      <td>https://www.benzinga.com/news/20/05/16103463/7...</td>\n",
       "      <td>Lisa Levin</td>\n",
       "      <td>2020-05-26 04:30:07-04:00</td>\n",
       "      <td>A</td>\n",
       "      <td>2020-05-26 04:30:07</td>\n",
       "      <td>2020-05-26</td>\n",
       "    </tr>\n",
       "    <tr>\n",
       "      <th>3</th>\n",
       "      <td>3</td>\n",
       "      <td>46 Stocks Moving In Friday's Mid-Day Session</td>\n",
       "      <td>https://www.benzinga.com/news/20/05/16095921/4...</td>\n",
       "      <td>Lisa Levin</td>\n",
       "      <td>2020-05-22 12:45:06-04:00</td>\n",
       "      <td>A</td>\n",
       "      <td>2020-05-22 12:45:06</td>\n",
       "      <td>2020-05-22</td>\n",
       "    </tr>\n",
       "    <tr>\n",
       "      <th>4</th>\n",
       "      <td>4</td>\n",
       "      <td>B of A Securities Maintains Neutral on Agilent...</td>\n",
       "      <td>https://www.benzinga.com/news/20/05/16095304/b...</td>\n",
       "      <td>Vick Meyer</td>\n",
       "      <td>2020-05-22 11:38:59-04:00</td>\n",
       "      <td>A</td>\n",
       "      <td>2020-05-22 11:38:59</td>\n",
       "      <td>2020-05-22</td>\n",
       "    </tr>\n",
       "    <tr>\n",
       "      <th>...</th>\n",
       "      <td>...</td>\n",
       "      <td>...</td>\n",
       "      <td>...</td>\n",
       "      <td>...</td>\n",
       "      <td>...</td>\n",
       "      <td>...</td>\n",
       "      <td>...</td>\n",
       "      <td>...</td>\n",
       "    </tr>\n",
       "    <tr>\n",
       "      <th>1407323</th>\n",
       "      <td>1413844</td>\n",
       "      <td>Top Narrow Based Indexes For August 29</td>\n",
       "      <td>https://www.benzinga.com/news/11/08/1888782/to...</td>\n",
       "      <td>Monica Gerson</td>\n",
       "      <td>NaT</td>\n",
       "      <td>ZX</td>\n",
       "      <td>NaT</td>\n",
       "      <td>NaT</td>\n",
       "    </tr>\n",
       "    <tr>\n",
       "      <th>1407324</th>\n",
       "      <td>1413845</td>\n",
       "      <td>Recap: Wednesday's Top Percentage Gainers and ...</td>\n",
       "      <td>https://www.benzinga.com/news/earnings/11/06/1...</td>\n",
       "      <td>Benjamin Lee</td>\n",
       "      <td>NaT</td>\n",
       "      <td>ZX</td>\n",
       "      <td>NaT</td>\n",
       "      <td>NaT</td>\n",
       "    </tr>\n",
       "    <tr>\n",
       "      <th>1407325</th>\n",
       "      <td>1413846</td>\n",
       "      <td>UPDATE: Oppenheimer Color on China Zenix Auto ...</td>\n",
       "      <td>https://www.benzinga.com/analyst-ratings/analy...</td>\n",
       "      <td>BenzingaStaffL</td>\n",
       "      <td>NaT</td>\n",
       "      <td>ZX</td>\n",
       "      <td>NaT</td>\n",
       "      <td>NaT</td>\n",
       "    </tr>\n",
       "    <tr>\n",
       "      <th>1407326</th>\n",
       "      <td>1413847</td>\n",
       "      <td>Oppenheimer Initiates China Zenix At Outperfor...</td>\n",
       "      <td>https://www.benzinga.com/analyst-ratings/price...</td>\n",
       "      <td>Joe Young</td>\n",
       "      <td>NaT</td>\n",
       "      <td>ZX</td>\n",
       "      <td>NaT</td>\n",
       "      <td>NaT</td>\n",
       "    </tr>\n",
       "    <tr>\n",
       "      <th>1407327</th>\n",
       "      <td>1413848</td>\n",
       "      <td>China Zenix Auto International Opens For Tradi...</td>\n",
       "      <td>https://www.benzinga.com/news/ipos/11/05/10789...</td>\n",
       "      <td>Allie Wickman</td>\n",
       "      <td>NaT</td>\n",
       "      <td>ZX</td>\n",
       "      <td>NaT</td>\n",
       "      <td>NaT</td>\n",
       "    </tr>\n",
       "  </tbody>\n",
       "</table>\n",
       "<p>1407328 rows × 8 columns</p>\n",
       "</div>"
      ],
      "text/plain": [
       "         Unnamed: 0                                           headline  \\\n",
       "0                 0            Stocks That Hit 52-Week Highs On Friday   \n",
       "1                 1         Stocks That Hit 52-Week Highs On Wednesday   \n",
       "2                 2                      71 Biggest Movers From Friday   \n",
       "3                 3       46 Stocks Moving In Friday's Mid-Day Session   \n",
       "4                 4  B of A Securities Maintains Neutral on Agilent...   \n",
       "...             ...                                                ...   \n",
       "1407323     1413844             Top Narrow Based Indexes For August 29   \n",
       "1407324     1413845  Recap: Wednesday's Top Percentage Gainers and ...   \n",
       "1407325     1413846  UPDATE: Oppenheimer Color on China Zenix Auto ...   \n",
       "1407326     1413847  Oppenheimer Initiates China Zenix At Outperfor...   \n",
       "1407327     1413848  China Zenix Auto International Opens For Tradi...   \n",
       "\n",
       "                                                       url          publisher  \\\n",
       "0        https://www.benzinga.com/news/20/06/16190091/s...  Benzinga Insights   \n",
       "1        https://www.benzinga.com/news/20/06/16170189/s...  Benzinga Insights   \n",
       "2        https://www.benzinga.com/news/20/05/16103463/7...         Lisa Levin   \n",
       "3        https://www.benzinga.com/news/20/05/16095921/4...         Lisa Levin   \n",
       "4        https://www.benzinga.com/news/20/05/16095304/b...         Vick Meyer   \n",
       "...                                                    ...                ...   \n",
       "1407323  https://www.benzinga.com/news/11/08/1888782/to...      Monica Gerson   \n",
       "1407324  https://www.benzinga.com/news/earnings/11/06/1...       Benjamin Lee   \n",
       "1407325  https://www.benzinga.com/analyst-ratings/analy...     BenzingaStaffL   \n",
       "1407326  https://www.benzinga.com/analyst-ratings/price...          Joe Young   \n",
       "1407327  https://www.benzinga.com/news/ipos/11/05/10789...      Allie Wickman   \n",
       "\n",
       "                             date stock          local_date   date_only  \n",
       "0       2020-06-05 10:30:54-04:00     A 2020-06-05 10:30:54  2020-06-05  \n",
       "1       2020-06-03 10:45:20-04:00     A 2020-06-03 10:45:20  2020-06-03  \n",
       "2       2020-05-26 04:30:07-04:00     A 2020-05-26 04:30:07  2020-05-26  \n",
       "3       2020-05-22 12:45:06-04:00     A 2020-05-22 12:45:06  2020-05-22  \n",
       "4       2020-05-22 11:38:59-04:00     A 2020-05-22 11:38:59  2020-05-22  \n",
       "...                           ...   ...                 ...         ...  \n",
       "1407323                       NaT    ZX                 NaT         NaT  \n",
       "1407324                       NaT    ZX                 NaT         NaT  \n",
       "1407325                       NaT    ZX                 NaT         NaT  \n",
       "1407326                       NaT    ZX                 NaT         NaT  \n",
       "1407327                       NaT    ZX                 NaT         NaT  \n",
       "\n",
       "[1407328 rows x 8 columns]"
      ]
     },
     "execution_count": 5,
     "metadata": {},
     "output_type": "execute_result"
    }
   ],
   "source": [
    "news_data = pd.read_csv('../yfinance_data//raw_analyst_ratings.csv')\n",
    "# Remove timezone information and convert to datetime\n",
    "\n",
    "# Step 1: Convert the 'date' column to datetime format\n",
    "news_data['date'] = pd.to_datetime(news_data['date'], errors='coerce')\n",
    "\n",
    "# Step 2: Remove timezone information (if any)\n",
    "news_data['local_date'] = news_data['date'].dt.tz_localize(None)\n",
    "news_data['date_only'] = news_data['date'].dt.date\n",
    "news_data"
   ]
  },
  {
   "cell_type": "code",
   "execution_count": 6,
   "metadata": {},
   "outputs": [
    {
     "data": {
      "text/html": [
       "<div>\n",
       "<style scoped>\n",
       "    .dataframe tbody tr th:only-of-type {\n",
       "        vertical-align: middle;\n",
       "    }\n",
       "\n",
       "    .dataframe tbody tr th {\n",
       "        vertical-align: top;\n",
       "    }\n",
       "\n",
       "    .dataframe thead th {\n",
       "        text-align: right;\n",
       "    }\n",
       "</style>\n",
       "<table border=\"1\" class=\"dataframe\">\n",
       "  <thead>\n",
       "    <tr style=\"text-align: right;\">\n",
       "      <th></th>\n",
       "      <th>Unnamed: 0</th>\n",
       "      <th>headline</th>\n",
       "      <th>url</th>\n",
       "      <th>publisher</th>\n",
       "      <th>date</th>\n",
       "      <th>stock</th>\n",
       "      <th>local_date</th>\n",
       "      <th>date_only</th>\n",
       "      <th>sentiment</th>\n",
       "      <th>sentiment_category</th>\n",
       "    </tr>\n",
       "  </thead>\n",
       "  <tbody>\n",
       "    <tr>\n",
       "      <th>0</th>\n",
       "      <td>0</td>\n",
       "      <td>Stocks That Hit 52-Week Highs On Friday</td>\n",
       "      <td>https://www.benzinga.com/news/20/06/16190091/s...</td>\n",
       "      <td>Benzinga Insights</td>\n",
       "      <td>2020-06-05 10:30:54-04:00</td>\n",
       "      <td>A</td>\n",
       "      <td>2020-06-05 10:30:54</td>\n",
       "      <td>2020-06-05</td>\n",
       "      <td>0.000</td>\n",
       "      <td>Neutral</td>\n",
       "    </tr>\n",
       "    <tr>\n",
       "      <th>1</th>\n",
       "      <td>1</td>\n",
       "      <td>Stocks That Hit 52-Week Highs On Wednesday</td>\n",
       "      <td>https://www.benzinga.com/news/20/06/16170189/s...</td>\n",
       "      <td>Benzinga Insights</td>\n",
       "      <td>2020-06-03 10:45:20-04:00</td>\n",
       "      <td>A</td>\n",
       "      <td>2020-06-03 10:45:20</td>\n",
       "      <td>2020-06-03</td>\n",
       "      <td>0.000</td>\n",
       "      <td>Neutral</td>\n",
       "    </tr>\n",
       "    <tr>\n",
       "      <th>2</th>\n",
       "      <td>2</td>\n",
       "      <td>71 Biggest Movers From Friday</td>\n",
       "      <td>https://www.benzinga.com/news/20/05/16103463/7...</td>\n",
       "      <td>Lisa Levin</td>\n",
       "      <td>2020-05-26 04:30:07-04:00</td>\n",
       "      <td>A</td>\n",
       "      <td>2020-05-26 04:30:07</td>\n",
       "      <td>2020-05-26</td>\n",
       "      <td>0.000</td>\n",
       "      <td>Neutral</td>\n",
       "    </tr>\n",
       "    <tr>\n",
       "      <th>3</th>\n",
       "      <td>3</td>\n",
       "      <td>46 Stocks Moving In Friday's Mid-Day Session</td>\n",
       "      <td>https://www.benzinga.com/news/20/05/16095921/4...</td>\n",
       "      <td>Lisa Levin</td>\n",
       "      <td>2020-05-22 12:45:06-04:00</td>\n",
       "      <td>A</td>\n",
       "      <td>2020-05-22 12:45:06</td>\n",
       "      <td>2020-05-22</td>\n",
       "      <td>0.000</td>\n",
       "      <td>Neutral</td>\n",
       "    </tr>\n",
       "    <tr>\n",
       "      <th>4</th>\n",
       "      <td>4</td>\n",
       "      <td>B of A Securities Maintains Neutral on Agilent...</td>\n",
       "      <td>https://www.benzinga.com/news/20/05/16095304/b...</td>\n",
       "      <td>Vick Meyer</td>\n",
       "      <td>2020-05-22 11:38:59-04:00</td>\n",
       "      <td>A</td>\n",
       "      <td>2020-05-22 11:38:59</td>\n",
       "      <td>2020-05-22</td>\n",
       "      <td>0.296</td>\n",
       "      <td>Neutral</td>\n",
       "    </tr>\n",
       "  </tbody>\n",
       "</table>\n",
       "</div>"
      ],
      "text/plain": [
       "   Unnamed: 0                                           headline  \\\n",
       "0           0            Stocks That Hit 52-Week Highs On Friday   \n",
       "1           1         Stocks That Hit 52-Week Highs On Wednesday   \n",
       "2           2                      71 Biggest Movers From Friday   \n",
       "3           3       46 Stocks Moving In Friday's Mid-Day Session   \n",
       "4           4  B of A Securities Maintains Neutral on Agilent...   \n",
       "\n",
       "                                                 url          publisher  \\\n",
       "0  https://www.benzinga.com/news/20/06/16190091/s...  Benzinga Insights   \n",
       "1  https://www.benzinga.com/news/20/06/16170189/s...  Benzinga Insights   \n",
       "2  https://www.benzinga.com/news/20/05/16103463/7...         Lisa Levin   \n",
       "3  https://www.benzinga.com/news/20/05/16095921/4...         Lisa Levin   \n",
       "4  https://www.benzinga.com/news/20/05/16095304/b...         Vick Meyer   \n",
       "\n",
       "                       date stock          local_date   date_only  sentiment  \\\n",
       "0 2020-06-05 10:30:54-04:00     A 2020-06-05 10:30:54  2020-06-05      0.000   \n",
       "1 2020-06-03 10:45:20-04:00     A 2020-06-03 10:45:20  2020-06-03      0.000   \n",
       "2 2020-05-26 04:30:07-04:00     A 2020-05-26 04:30:07  2020-05-26      0.000   \n",
       "3 2020-05-22 12:45:06-04:00     A 2020-05-22 12:45:06  2020-05-22      0.000   \n",
       "4 2020-05-22 11:38:59-04:00     A 2020-05-22 11:38:59  2020-05-22      0.296   \n",
       "\n",
       "  sentiment_category  \n",
       "0            Neutral  \n",
       "1            Neutral  \n",
       "2            Neutral  \n",
       "3            Neutral  \n",
       "4            Neutral  "
      ]
     },
     "execution_count": 6,
     "metadata": {},
     "output_type": "execute_result"
    }
   ],
   "source": [
    "# Initialize VADER sentiment analyzer\n",
    "sia = SentimentIntensityAnalyzer()\n",
    "# Calculate the sentiment of the headlines\n",
    "news_data['sentiment'] = news_data['headline'].apply(lambda x: sia.polarity_scores(text=x)['compound'])\n",
    "\n",
    "\n",
    "# Initialize VADER sentiment analyzer\n",
    "# Categorize the sentiment scores\n",
    "news_data['sentiment_category'] = pd.cut(news_data['sentiment'], bins=[-1, -0.5, -0.0001, 0.5, 1], labels=['Very Negative', 'Negative', 'Neutral', 'Positive'])\n",
    "news_data.head()"
   ]
  },
  {
   "cell_type": "code",
   "execution_count": 13,
   "metadata": {},
   "outputs": [
    {
     "name": "stdout",
     "output_type": "stream",
     "text": [
      "{'AAPL': 441, 'GOOG': 1199, 'MSFT': 0, 'META': 0, 'AMZN': 278, 'NVDA': 3146, 'TSLA': 1875}\n"
     ]
    }
   ],
   "source": [
    "import pandas as pd\n",
    "\n",
    "def count_stocks(news_data, stocks):\n",
    "\n",
    "    stock_counts = {}\n",
    "    for stock in stocks:\n",
    "        stock_counts[stock] = len(news_data[news_data['stock'] == stock])\n",
    "    return stock_counts\n",
    "\n",
    "# Example usage:\n",
    "stocks_to_count = ['AAPL', 'GOOG', 'MSFT', 'META','AMZN','NVDA','TSLA']\n",
    "stock_counts = count_stocks(news_data, stocks_to_count)\n",
    "print(stock_counts)"
   ]
  },
  {
   "cell_type": "markdown",
   "metadata": {},
   "source": [
    "exclude 'MSFT': 0, 'META': 0,for correlation"
   ]
  },
  {
   "cell_type": "code",
   "execution_count": 15,
   "metadata": {},
   "outputs": [],
   "source": [
    "# news_data=news_data.drop(columns='Unnamed: 0', axis=1)\n",
    "# news_data.head(1)"
   ]
  },
  {
   "cell_type": "code",
   "execution_count": 16,
   "metadata": {},
   "outputs": [],
   "source": [
    "news_data.reset_index(inplace=True)"
   ]
  },
  {
   "cell_type": "code",
   "execution_count": 17,
   "metadata": {},
   "outputs": [],
   "source": [
    "news_data['date'] = pd.to_datetime(news_data['date'], errors='coerce')\n",
    "\n",
    "# Step 2: Remove timezone information (if any)\n",
    "# news_data['local_date'] = news_data['date'].dt.tz_localize(None)\n",
    "news_data['Date'] = news_data['date'].dt.date"
   ]
  },
  {
   "cell_type": "code",
   "execution_count": 18,
   "metadata": {},
   "outputs": [
    {
     "data": {
      "text/html": [
       "<div>\n",
       "<style scoped>\n",
       "    .dataframe tbody tr th:only-of-type {\n",
       "        vertical-align: middle;\n",
       "    }\n",
       "\n",
       "    .dataframe tbody tr th {\n",
       "        vertical-align: top;\n",
       "    }\n",
       "\n",
       "    .dataframe thead th {\n",
       "        text-align: right;\n",
       "    }\n",
       "</style>\n",
       "<table border=\"1\" class=\"dataframe\">\n",
       "  <thead>\n",
       "    <tr style=\"text-align: right;\">\n",
       "      <th></th>\n",
       "      <th>Date</th>\n",
       "      <th>index</th>\n",
       "      <th>headline</th>\n",
       "      <th>url</th>\n",
       "      <th>publisher</th>\n",
       "      <th>date</th>\n",
       "      <th>stock</th>\n",
       "      <th>local_date</th>\n",
       "      <th>date_only</th>\n",
       "      <th>sentiment</th>\n",
       "      <th>sentiment_category</th>\n",
       "    </tr>\n",
       "  </thead>\n",
       "  <tbody>\n",
       "    <tr>\n",
       "      <th>0</th>\n",
       "      <td>2020-06-05</td>\n",
       "      <td>0</td>\n",
       "      <td>Stocks That Hit 52-Week Highs On Friday</td>\n",
       "      <td>https://www.benzinga.com/news/20/06/16190091/s...</td>\n",
       "      <td>Benzinga Insights</td>\n",
       "      <td>2020-06-05 10:30:54-04:00</td>\n",
       "      <td>A</td>\n",
       "      <td>2020-06-05 10:30:54</td>\n",
       "      <td>2020-06-05</td>\n",
       "      <td>0.0</td>\n",
       "      <td>Neutral</td>\n",
       "    </tr>\n",
       "  </tbody>\n",
       "</table>\n",
       "</div>"
      ],
      "text/plain": [
       "         Date  index                                 headline  \\\n",
       "0  2020-06-05      0  Stocks That Hit 52-Week Highs On Friday   \n",
       "\n",
       "                                                 url          publisher  \\\n",
       "0  https://www.benzinga.com/news/20/06/16190091/s...  Benzinga Insights   \n",
       "\n",
       "                       date stock          local_date   date_only  sentiment  \\\n",
       "0 2020-06-05 10:30:54-04:00     A 2020-06-05 10:30:54  2020-06-05        0.0   \n",
       "\n",
       "  sentiment_category  \n",
       "0            Neutral  "
      ]
     },
     "execution_count": 18,
     "metadata": {},
     "output_type": "execute_result"
    }
   ],
   "source": [
    "news_data.head(1)"
   ]
  },
  {
   "cell_type": "code",
   "execution_count": 19,
   "metadata": {},
   "outputs": [
    {
     "data": {
      "text/html": [
       "<div>\n",
       "<style scoped>\n",
       "    .dataframe tbody tr th:only-of-type {\n",
       "        vertical-align: middle;\n",
       "    }\n",
       "\n",
       "    .dataframe tbody tr th {\n",
       "        vertical-align: top;\n",
       "    }\n",
       "\n",
       "    .dataframe thead th {\n",
       "        text-align: right;\n",
       "    }\n",
       "</style>\n",
       "<table border=\"1\" class=\"dataframe\">\n",
       "  <thead>\n",
       "    <tr style=\"text-align: right;\">\n",
       "      <th></th>\n",
       "      <th>index</th>\n",
       "      <th>headline</th>\n",
       "      <th>url</th>\n",
       "      <th>publisher</th>\n",
       "      <th>date</th>\n",
       "      <th>stock</th>\n",
       "      <th>local_date</th>\n",
       "      <th>date_only</th>\n",
       "      <th>sentiment</th>\n",
       "      <th>sentiment_category</th>\n",
       "    </tr>\n",
       "    <tr>\n",
       "      <th>Date</th>\n",
       "      <th></th>\n",
       "      <th></th>\n",
       "      <th></th>\n",
       "      <th></th>\n",
       "      <th></th>\n",
       "      <th></th>\n",
       "      <th></th>\n",
       "      <th></th>\n",
       "      <th></th>\n",
       "      <th></th>\n",
       "    </tr>\n",
       "  </thead>\n",
       "  <tbody>\n",
       "    <tr>\n",
       "      <th>2020-06-05</th>\n",
       "      <td>0</td>\n",
       "      <td>Stocks That Hit 52-Week Highs On Friday</td>\n",
       "      <td>https://www.benzinga.com/news/20/06/16190091/s...</td>\n",
       "      <td>Benzinga Insights</td>\n",
       "      <td>2020-06-05 10:30:54-04:00</td>\n",
       "      <td>A</td>\n",
       "      <td>2020-06-05 10:30:54</td>\n",
       "      <td>2020-06-05</td>\n",
       "      <td>0.0</td>\n",
       "      <td>Neutral</td>\n",
       "    </tr>\n",
       "  </tbody>\n",
       "</table>\n",
       "</div>"
      ],
      "text/plain": [
       "            index                                 headline  \\\n",
       "Date                                                         \n",
       "2020-06-05      0  Stocks That Hit 52-Week Highs On Friday   \n",
       "\n",
       "                                                          url  \\\n",
       "Date                                                            \n",
       "2020-06-05  https://www.benzinga.com/news/20/06/16190091/s...   \n",
       "\n",
       "                    publisher                      date stock  \\\n",
       "Date                                                            \n",
       "2020-06-05  Benzinga Insights 2020-06-05 10:30:54-04:00     A   \n",
       "\n",
       "                    local_date   date_only  sentiment sentiment_category  \n",
       "Date                                                                      \n",
       "2020-06-05 2020-06-05 10:30:54  2020-06-05        0.0            Neutral  "
      ]
     },
     "execution_count": 19,
     "metadata": {},
     "output_type": "execute_result"
    }
   ],
   "source": [
    "# news_data['Date'] = pd.to_datetime(news_data['date_only'])\n",
    "news_data.set_index('Date', inplace=True)\n",
    "news_data.head(1)"
   ]
  },
  {
   "cell_type": "markdown",
   "metadata": {},
   "source": [
    "### Stocks data"
   ]
  },
  {
   "cell_type": "code",
   "execution_count": 33,
   "metadata": {},
   "outputs": [],
   "source": [
    "\n",
    "# Load data\n",
    "tesla_df = pd.read_csv('../yfinance_data/TSLA_historical_data.csv')\n",
    "goog_df = pd.read_csv('../yfinance_data/GOOG_historical_data.csv')\n",
    "amzn_df = pd.read_csv('../yfinance_data/AMZN_historical_data.csv')\n",
    "nvda_df = pd.read_csv('../yfinance_data/NVDA_historical_data.csv')\n",
    "aapl_df = pd.read_csv('../yfinance_data/AAPL_historical_data.csv')"
   ]
  },
  {
   "cell_type": "code",
   "execution_count": 34,
   "metadata": {},
   "outputs": [],
   "source": [
    "# Convert Date columns to datetime\n",
    "amzn_df['Date'] = pd.to_datetime(amzn_df['Date']).dt.date\n",
    "tesla_df['Date'] = pd.to_datetime(tesla_df['Date']).dt.date\n",
    "goog_df['Date'] = pd.to_datetime(goog_df['Date']).dt.date\n",
    "nvda_df['Date'] = pd.to_datetime(nvda_df['Date']).dt.date\n",
    "aapl_df['Date'] = pd.to_datetime(aapl_df['Date']).dt.date"
   ]
  },
  {
   "cell_type": "code",
   "execution_count": null,
   "metadata": {},
   "outputs": [],
   "source": []
  },
  {
   "cell_type": "code",
   "execution_count": 38,
   "metadata": {},
   "outputs": [],
   "source": [
    "# Calculate daily stock returns for each DataFrame\n",
    "amzn_df['AMZN_Daily_Return'] = amzn_df['Close'].pct_change()\n",
    "tesla_df['TSLA_Daily_Return'] = tesla_df['Close'].pct_change()\n",
    "goog_df['GOOG_Daily_Return'] = goog_df['Close'].pct_change()\n",
    "nvda_df['NVDA_Daily_Return'] = nvda_df['Close'].pct_change()\n",
    "aapl_df['AAPL_Daily_Return'] = aapl_df['Close'].pct_change()"
   ]
  },
  {
   "cell_type": "markdown",
   "metadata": {},
   "source": [
    "### First Pearson correlation coefficient  b/n Tesla and news"
   ]
  },
  {
   "cell_type": "code",
   "execution_count": 54,
   "metadata": {},
   "outputs": [
    {
     "data": {
      "text/html": [
       "<div>\n",
       "<style scoped>\n",
       "    .dataframe tbody tr th:only-of-type {\n",
       "        vertical-align: middle;\n",
       "    }\n",
       "\n",
       "    .dataframe tbody tr th {\n",
       "        vertical-align: top;\n",
       "    }\n",
       "\n",
       "    .dataframe thead th {\n",
       "        text-align: right;\n",
       "    }\n",
       "</style>\n",
       "<table border=\"1\" class=\"dataframe\">\n",
       "  <thead>\n",
       "    <tr style=\"text-align: right;\">\n",
       "      <th></th>\n",
       "      <th>index</th>\n",
       "      <th>Date</th>\n",
       "      <th>Open</th>\n",
       "      <th>High</th>\n",
       "      <th>Low</th>\n",
       "      <th>Close</th>\n",
       "      <th>Adj Close</th>\n",
       "      <th>Volume</th>\n",
       "      <th>Dividends</th>\n",
       "      <th>Stock Splits</th>\n",
       "      <th>TSLA_Daily_Return</th>\n",
       "    </tr>\n",
       "  </thead>\n",
       "  <tbody>\n",
       "    <tr>\n",
       "      <th>0</th>\n",
       "      <td>1970-01-01</td>\n",
       "      <td>2010-06-29</td>\n",
       "      <td>1.266667</td>\n",
       "      <td>1.666667</td>\n",
       "      <td>1.169333</td>\n",
       "      <td>1.592667</td>\n",
       "      <td>1.592667</td>\n",
       "      <td>281494500</td>\n",
       "      <td>0.0</td>\n",
       "      <td>0.0</td>\n",
       "      <td>NaN</td>\n",
       "    </tr>\n",
       "  </tbody>\n",
       "</table>\n",
       "</div>"
      ],
      "text/plain": [
       "        index        Date      Open      High       Low     Close  Adj Close  \\\n",
       "0  1970-01-01  2010-06-29  1.266667  1.666667  1.169333  1.592667   1.592667   \n",
       "\n",
       "      Volume  Dividends  Stock Splits  TSLA_Daily_Return  \n",
       "0  281494500        0.0           0.0                NaN  "
      ]
     },
     "execution_count": 54,
     "metadata": {},
     "output_type": "execute_result"
    }
   ],
   "source": [
    "tesla_df.head(1)"
   ]
  },
  {
   "cell_type": "code",
   "execution_count": 48,
   "metadata": {},
   "outputs": [
    {
     "data": {
      "text/html": [
       "<div>\n",
       "<style scoped>\n",
       "    .dataframe tbody tr th:only-of-type {\n",
       "        vertical-align: middle;\n",
       "    }\n",
       "\n",
       "    .dataframe tbody tr th {\n",
       "        vertical-align: top;\n",
       "    }\n",
       "\n",
       "    .dataframe thead th {\n",
       "        text-align: right;\n",
       "    }\n",
       "</style>\n",
       "<table border=\"1\" class=\"dataframe\">\n",
       "  <thead>\n",
       "    <tr style=\"text-align: right;\">\n",
       "      <th></th>\n",
       "      <th>date</th>\n",
       "      <th>sentiment</th>\n",
       "    </tr>\n",
       "  </thead>\n",
       "  <tbody>\n",
       "    <tr>\n",
       "      <th>0</th>\n",
       "      <td>2011-04-27 21:01:48-04:00</td>\n",
       "      <td>0.0</td>\n",
       "    </tr>\n",
       "  </tbody>\n",
       "</table>\n",
       "</div>"
      ],
      "text/plain": [
       "                       date  sentiment\n",
       "0 2011-04-27 21:01:48-04:00        0.0"
      ]
     },
     "execution_count": 48,
     "metadata": {},
     "output_type": "execute_result"
    }
   ],
   "source": [
    "# Aggregate sentiment scores by date\n",
    "daily_sentiment = news_data.groupby('date')['sentiment'].mean().reset_index()\n",
    "daily_sentiment.head(1)"
   ]
  },
  {
   "cell_type": "code",
   "execution_count": 51,
   "metadata": {},
   "outputs": [
    {
     "name": "stdout",
     "output_type": "stream",
     "text": [
      "Correlation between sentiment and Tesla stock returns: -0.01581691000688443\n"
     ]
    }
   ],
   "source": [
    "# Convert the index to datetime (since Date is already the index)\n",
    "tesla_df.index = pd.to_datetime(tesla_df.index).date\n",
    "news_data['date'] = pd.to_datetime(news_data['date']).dt.date\n",
    "\n",
    "# Calculate daily returns for Tesla stock\n",
    "tesla_df['TSLA_Daily_Return'] = tesla_df['Adj Close'].pct_change()\n",
    "\n",
    "# Aggregate sentiment scores by date\n",
    "daily_sentiment = news_data.groupby('date')['sentiment'].mean().reset_index()\n",
    "\n",
    "# Reset index to make 'Date' a column for merging\n",
    "tesla_df.reset_index(inplace=True)\n",
    "\n",
    "# Merge the daily sentiment scores with Tesla's daily returns\n",
    "merged_data = pd.merge(daily_sentiment, tesla_df[['Date', 'TSLA_Daily_Return']], left_on='date', right_on='Date')\n",
    "\n",
    "# Calculate the Pearson correlation coefficient\n",
    "correlation = merged_data['sentiment'].corr(merged_data['TSLA_Daily_Return'])\n",
    "\n",
    "print(f'Correlation between sentiment and Tesla stock returns: {correlation}')"
   ]
  },
  {
   "cell_type": "markdown",
   "metadata": {},
   "source": [
    "## For ALL STOCKS Pearson correlation coefficient "
   ]
  },
  {
   "cell_type": "markdown",
   "metadata": {},
   "source": []
  },
  {
   "cell_type": "code",
   "execution_count": 61,
   "metadata": {},
   "outputs": [],
   "source": [
    "# Aggregate sentiment scores by date\n",
    "# daily_sentiment = news_data.groupby('date')['sentiment'].mean().reset_index()\n",
    "\n",
    "# Reset index to make 'Date' a column for merging\n",
    "amzn_df.reset_index(inplace=True)\n",
    "tesla_df.reset_index(inplace=True)\n",
    "goog_df.reset_index(inplace=True)\n",
    "nvda_df.reset_index(inplace=True)\n",
    "aapl_df.reset_index(inplace=True)"
   ]
  },
  {
   "cell_type": "code",
   "execution_count": 64,
   "metadata": {},
   "outputs": [],
   "source": [
    "# Merge the daily sentiment scores with each stock's daily returns\n",
    "merged_amzn = pd.merge(daily_sentiment, amzn_df[['Date', 'AMZN_Daily_Return']], left_on='date', right_on='Date')\n",
    "merged_tesla = pd.merge(daily_sentiment, tesla_df[['Date', 'TSLA_Daily_Return']], left_on='date', right_on='Date')\n",
    "merged_goog = pd.merge(daily_sentiment, goog_df[['Date', 'GOOG_Daily_Return']], left_on='date', right_on='Date')\n",
    "merged_nvda = pd.merge(daily_sentiment, nvda_df[['Date', 'NVDA_Daily_Return']], left_on='date', right_on='Date')\n",
    "merged_aapl = pd.merge(daily_sentiment, aapl_df[['Date', 'AAPL_Daily_Return']], left_on='date', right_on='Date')\n"
   ]
  },
  {
   "cell_type": "code",
   "execution_count": 65,
   "metadata": {},
   "outputs": [],
   "source": [
    "# Calculate the Pearson correlation coefficient\n",
    "correlation_amzn = merged_amzn['sentiment'].corr(merged_amzn['AMZN_Daily_Return'])\n",
    "correlation_tesla = merged_tesla['sentiment'].corr(merged_tesla['TSLA_Daily_Return'])\n",
    "correlation_goog = merged_goog['sentiment'].corr(merged_goog['GOOG_Daily_Return'])\n",
    "correlation_nvda = merged_nvda['sentiment'].corr(merged_nvda['NVDA_Daily_Return'])\n",
    "correlation_aapl = merged_aapl['sentiment'].corr(merged_aapl['AAPL_Daily_Return'])"
   ]
  },
  {
   "cell_type": "code",
   "execution_count": 66,
   "metadata": {},
   "outputs": [
    {
     "name": "stdout",
     "output_type": "stream",
     "text": [
      "Correlation between sentiment and Amazon stock returns: -0.0015263845654808995\n",
      "Correlation between sentiment and Tesla stock returns: -0.01581691000688443\n",
      "Correlation between sentiment and Google stock returns: 0.02468864641328575\n",
      "Correlation between sentiment and NVIDIA stock returns: 0.02673313534292091\n",
      "Correlation between sentiment and Apple stock returns: 0.04535919201222875\n"
     ]
    }
   ],
   "source": [
    "print(f'Correlation between sentiment and Amazon stock returns: {correlation_amzn}')\n",
    "print(f'Correlation between sentiment and Tesla stock returns: {correlation_tesla}')\n",
    "print(f'Correlation between sentiment and Google stock returns: {correlation_goog}')\n",
    "print(f'Correlation between sentiment and NVIDIA stock returns: {correlation_nvda}')\n",
    "print(f'Correlation between sentiment and Apple stock returns: {correlation_aapl}')"
   ]
  },
  {
   "cell_type": "code",
   "execution_count": null,
   "metadata": {},
   "outputs": [],
   "source": []
  },
  {
   "cell_type": "code",
   "execution_count": 67,
   "metadata": {},
   "outputs": [
    {
     "name": "stdout",
     "output_type": "stream",
     "text": [
      "Correlation between sentiment and AMZN stock returns: -0.0015263845654808995\n",
      "Correlation between sentiment and TSLA stock returns: -0.01581691000688443\n",
      "Correlation between sentiment and GOOG stock returns: 0.02468864641328575\n",
      "Correlation between sentiment and NVDA stock returns: 0.02673313534292091\n",
      "Correlation between sentiment and AAPL stock returns: 0.04535919201222875\n"
     ]
    }
   ],
   "source": [
    "def calculate_correlation(daily_sentiment, stock_df, stock_name):\n",
    "    merged_data = pd.merge(daily_sentiment, stock_df[['Date', f'{stock_name}_Daily_Return']], \n",
    "                           left_on='date', right_on='Date')\n",
    "    correlation = merged_data['sentiment'].corr(merged_data[f'{stock_name}_Daily_Return'])\n",
    "    print(f'Correlation between sentiment and {stock_name} stock returns: {correlation}')\n",
    "\n",
    "# Calculate correlations for all stocks\n",
    "calculate_correlation(daily_sentiment, amzn_df, 'AMZN')\n",
    "calculate_correlation(daily_sentiment, tesla_df, 'TSLA')\n",
    "calculate_correlation(daily_sentiment, goog_df, 'GOOG')\n",
    "calculate_correlation(daily_sentiment, nvda_df, 'NVDA')\n",
    "calculate_correlation(daily_sentiment, aapl_df, 'AAPL')"
   ]
  },
  {
   "cell_type": "code",
   "execution_count": 68,
   "metadata": {},
   "outputs": [
    {
     "name": "stdout",
     "output_type": "stream",
     "text": [
      "         Date     Close  AMZN_Daily_Return\n",
      "0  1997-05-15  0.097917                NaN\n",
      "1  1997-05-16  0.086458          -0.117028\n",
      "2  1997-05-19  0.085417          -0.012040\n",
      "3  1997-05-20  0.081771          -0.042685\n",
      "4  1997-05-21  0.071354          -0.127392\n",
      "         Date     Close  TSLA_Daily_Return\n",
      "0  2010-06-29  1.592667                NaN\n",
      "1  2010-06-30  1.588667          -0.002511\n",
      "2  2010-07-01  1.464000          -0.078473\n",
      "3  2010-07-02  1.280000          -0.125683\n",
      "4  2010-07-06  1.074000          -0.160937\n",
      "         Date     Close  GOOG_Daily_Return\n",
      "0  2004-08-19  2.499133                NaN\n",
      "1  2004-08-20  2.697639           0.079430\n",
      "2  2004-08-23  2.724787           0.010064\n",
      "3  2004-08-24  2.611960          -0.041408\n",
      "4  2004-08-25  2.640104           0.010775\n",
      "         Date     Close  NVDA_Daily_Return\n",
      "0  1999-01-22  0.041016                NaN\n",
      "1  1999-01-25  0.045313           0.104764\n",
      "2  1999-01-26  0.041797          -0.077594\n",
      "3  1999-01-27  0.041667          -0.003110\n",
      "4  1999-01-28  0.041536          -0.003144\n",
      "         Date     Close  AAPL_Daily_Return\n",
      "0  1980-12-12  0.128348                NaN\n",
      "1  1980-12-15  0.121652          -0.052171\n",
      "2  1980-12-16  0.112723          -0.073398\n",
      "3  1980-12-17  0.115513           0.024751\n",
      "4  1980-12-18  0.118862           0.028992\n"
     ]
    }
   ],
   "source": [
    "# Display the first few rows of each DataFrame to confirm the calculations\n",
    "print(amzn_df[['Date', 'Close', 'AMZN_Daily_Return']].head())\n",
    "print(tesla_df[['Date', 'Close', 'TSLA_Daily_Return']].head())\n",
    "print(goog_df[['Date', 'Close', 'GOOG_Daily_Return']].head())\n",
    "print(nvda_df[['Date', 'Close', 'NVDA_Daily_Return']].head())\n",
    "print(aapl_df[['Date', 'Close', 'AAPL_Daily_Return']].head())"
   ]
  },
  {
   "cell_type": "code",
   "execution_count": null,
   "metadata": {},
   "outputs": [],
   "source": []
  }
 ],
 "metadata": {
  "kernelspec": {
   "display_name": "VENV",
   "language": "python",
   "name": "python3"
  },
  "language_info": {
   "codemirror_mode": {
    "name": "ipython",
    "version": 3
   },
   "file_extension": ".py",
   "mimetype": "text/x-python",
   "name": "python",
   "nbconvert_exporter": "python",
   "pygments_lexer": "ipython3",
   "version": "3.11.9"
  }
 },
 "nbformat": 4,
 "nbformat_minor": 2
}
